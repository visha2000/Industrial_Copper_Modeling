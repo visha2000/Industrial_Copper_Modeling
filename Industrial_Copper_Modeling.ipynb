{
 "cells": [
  {
   "cell_type": "code",
   "execution_count": 1,
   "id": "5787fd57",
   "metadata": {},
   "outputs": [],
   "source": [
    "#For Data reading and data manipulation\n",
    "import pandas as pd\n",
    "import numpy as np\n",
    "import statistics as st\n",
    "\n",
    "#For Data visualization\n",
    "import matplotlib.pyplot as plt\n",
    "import seaborn as sns\n"
   ]
  },
  {
   "cell_type": "code",
   "execution_count": 2,
   "id": "a4b84bbd",
   "metadata": {},
   "outputs": [],
   "source": [
    "data = pd.read_excel(r\"C:\\Users\\vishalachi\\Downloads\\Copper_Set.xlsx\")"
   ]
  },
  {
   "cell_type": "code",
   "execution_count": 3,
   "id": "9fbc64d7",
   "metadata": {},
   "outputs": [
    {
     "data": {
      "text/html": [
       "<div>\n",
       "<style scoped>\n",
       "    .dataframe tbody tr th:only-of-type {\n",
       "        vertical-align: middle;\n",
       "    }\n",
       "\n",
       "    .dataframe tbody tr th {\n",
       "        vertical-align: top;\n",
       "    }\n",
       "\n",
       "    .dataframe thead th {\n",
       "        text-align: right;\n",
       "    }\n",
       "</style>\n",
       "<table border=\"1\" class=\"dataframe\">\n",
       "  <thead>\n",
       "    <tr style=\"text-align: right;\">\n",
       "      <th></th>\n",
       "      <th>id</th>\n",
       "      <th>item_date</th>\n",
       "      <th>quantity tons</th>\n",
       "      <th>customer</th>\n",
       "      <th>country</th>\n",
       "      <th>status</th>\n",
       "      <th>item type</th>\n",
       "      <th>application</th>\n",
       "      <th>thickness</th>\n",
       "      <th>width</th>\n",
       "      <th>material_ref</th>\n",
       "      <th>product_ref</th>\n",
       "      <th>delivery date</th>\n",
       "      <th>selling_price</th>\n",
       "    </tr>\n",
       "  </thead>\n",
       "  <tbody>\n",
       "    <tr>\n",
       "      <th>0</th>\n",
       "      <td>EC06F063-9DF0-440C-8764-0B0C05A4F6AE</td>\n",
       "      <td>20210401.0</td>\n",
       "      <td>54.151139</td>\n",
       "      <td>30156308.0</td>\n",
       "      <td>28.0</td>\n",
       "      <td>Won</td>\n",
       "      <td>W</td>\n",
       "      <td>10.0</td>\n",
       "      <td>2.00</td>\n",
       "      <td>1500.0</td>\n",
       "      <td>DEQ1 S460MC</td>\n",
       "      <td>1670798778</td>\n",
       "      <td>20210701.0</td>\n",
       "      <td>854.00</td>\n",
       "    </tr>\n",
       "    <tr>\n",
       "      <th>1</th>\n",
       "      <td>4E5F4B3D-DDDF-499D-AFDE-A3227EC49425</td>\n",
       "      <td>20210401.0</td>\n",
       "      <td>768.024839</td>\n",
       "      <td>30202938.0</td>\n",
       "      <td>25.0</td>\n",
       "      <td>Won</td>\n",
       "      <td>W</td>\n",
       "      <td>41.0</td>\n",
       "      <td>0.80</td>\n",
       "      <td>1210.0</td>\n",
       "      <td>0000000000000000000000000000000000104991</td>\n",
       "      <td>1668701718</td>\n",
       "      <td>20210401.0</td>\n",
       "      <td>1047.00</td>\n",
       "    </tr>\n",
       "    <tr>\n",
       "      <th>2</th>\n",
       "      <td>E140FF1B-2407-4C02-A0DD-780A093B1158</td>\n",
       "      <td>20210401.0</td>\n",
       "      <td>386.127949</td>\n",
       "      <td>30153963.0</td>\n",
       "      <td>30.0</td>\n",
       "      <td>Won</td>\n",
       "      <td>WI</td>\n",
       "      <td>28.0</td>\n",
       "      <td>0.38</td>\n",
       "      <td>952.0</td>\n",
       "      <td>S0380700</td>\n",
       "      <td>628377</td>\n",
       "      <td>20210101.0</td>\n",
       "      <td>644.33</td>\n",
       "    </tr>\n",
       "    <tr>\n",
       "      <th>3</th>\n",
       "      <td>F8D507A0-9C62-4EFE-831E-33E1DA53BB50</td>\n",
       "      <td>20210401.0</td>\n",
       "      <td>202.411065</td>\n",
       "      <td>30349574.0</td>\n",
       "      <td>32.0</td>\n",
       "      <td>Won</td>\n",
       "      <td>S</td>\n",
       "      <td>59.0</td>\n",
       "      <td>2.30</td>\n",
       "      <td>1317.0</td>\n",
       "      <td>DX51D+ZM310MAO 2.3X1317</td>\n",
       "      <td>1668701718</td>\n",
       "      <td>20210101.0</td>\n",
       "      <td>768.00</td>\n",
       "    </tr>\n",
       "    <tr>\n",
       "      <th>4</th>\n",
       "      <td>4E1C4E78-152B-430A-8094-ADD889C9D0AD</td>\n",
       "      <td>20210401.0</td>\n",
       "      <td>785.526262</td>\n",
       "      <td>30211560.0</td>\n",
       "      <td>28.0</td>\n",
       "      <td>Won</td>\n",
       "      <td>W</td>\n",
       "      <td>10.0</td>\n",
       "      <td>4.00</td>\n",
       "      <td>2000.0</td>\n",
       "      <td>2_S275JR+AR-CL1</td>\n",
       "      <td>640665</td>\n",
       "      <td>20210301.0</td>\n",
       "      <td>577.00</td>\n",
       "    </tr>\n",
       "    <tr>\n",
       "      <th>...</th>\n",
       "      <td>...</td>\n",
       "      <td>...</td>\n",
       "      <td>...</td>\n",
       "      <td>...</td>\n",
       "      <td>...</td>\n",
       "      <td>...</td>\n",
       "      <td>...</td>\n",
       "      <td>...</td>\n",
       "      <td>...</td>\n",
       "      <td>...</td>\n",
       "      <td>...</td>\n",
       "      <td>...</td>\n",
       "      <td>...</td>\n",
       "      <td>...</td>\n",
       "    </tr>\n",
       "    <tr>\n",
       "      <th>181668</th>\n",
       "      <td>DE633116-D1DF-4846-982E-55EFC3658A76</td>\n",
       "      <td>20200702.0</td>\n",
       "      <td>102.482422</td>\n",
       "      <td>30200854.0</td>\n",
       "      <td>25.0</td>\n",
       "      <td>Won</td>\n",
       "      <td>W</td>\n",
       "      <td>41.0</td>\n",
       "      <td>0.96</td>\n",
       "      <td>1220.0</td>\n",
       "      <td>0000000000000000000000000000000001000777</td>\n",
       "      <td>164141591</td>\n",
       "      <td>20200701.0</td>\n",
       "      <td>591.00</td>\n",
       "    </tr>\n",
       "    <tr>\n",
       "      <th>181669</th>\n",
       "      <td>A48374B1-E6DB-45F2-889A-1F9C27C099EB</td>\n",
       "      <td>20200702.0</td>\n",
       "      <td>208.086469</td>\n",
       "      <td>30200854.0</td>\n",
       "      <td>25.0</td>\n",
       "      <td>Won</td>\n",
       "      <td>W</td>\n",
       "      <td>41.0</td>\n",
       "      <td>0.95</td>\n",
       "      <td>1500.0</td>\n",
       "      <td>0000000000000000000000000000000001000227</td>\n",
       "      <td>164141591</td>\n",
       "      <td>20200701.0</td>\n",
       "      <td>589.00</td>\n",
       "    </tr>\n",
       "    <tr>\n",
       "      <th>181670</th>\n",
       "      <td>91643238-5C7B-4237-9A5F-63AE3D35F320</td>\n",
       "      <td>20200702.0</td>\n",
       "      <td>4.235594</td>\n",
       "      <td>30200854.0</td>\n",
       "      <td>25.0</td>\n",
       "      <td>Won</td>\n",
       "      <td>W</td>\n",
       "      <td>41.0</td>\n",
       "      <td>0.71</td>\n",
       "      <td>1250.0</td>\n",
       "      <td>0000000000000000000000000000000001004216</td>\n",
       "      <td>164141591</td>\n",
       "      <td>20200701.0</td>\n",
       "      <td>619.00</td>\n",
       "    </tr>\n",
       "    <tr>\n",
       "      <th>181671</th>\n",
       "      <td>7AFFD323-01D9-4E15-B80D-7D1B03498FC8</td>\n",
       "      <td>20200702.0</td>\n",
       "      <td>-2000</td>\n",
       "      <td>30200854.0</td>\n",
       "      <td>25.0</td>\n",
       "      <td>Won</td>\n",
       "      <td>W</td>\n",
       "      <td>41.0</td>\n",
       "      <td>0.85</td>\n",
       "      <td>1250.0</td>\n",
       "      <td>0000000000000000000000000000000001001149</td>\n",
       "      <td>164141591</td>\n",
       "      <td>20200701.0</td>\n",
       "      <td>601.00</td>\n",
       "    </tr>\n",
       "    <tr>\n",
       "      <th>181672</th>\n",
       "      <td>AD0CA853-AE3C-4B2F-9FBB-8B0B965F84BC</td>\n",
       "      <td>20200702.0</td>\n",
       "      <td>406.686538</td>\n",
       "      <td>30200854.0</td>\n",
       "      <td>25.0</td>\n",
       "      <td>Won</td>\n",
       "      <td>W</td>\n",
       "      <td>41.0</td>\n",
       "      <td>0.71</td>\n",
       "      <td>1240.0</td>\n",
       "      <td>0000000000000000000000000000000001005439</td>\n",
       "      <td>164141591</td>\n",
       "      <td>20200701.0</td>\n",
       "      <td>607.00</td>\n",
       "    </tr>\n",
       "  </tbody>\n",
       "</table>\n",
       "<p>181673 rows × 14 columns</p>\n",
       "</div>"
      ],
      "text/plain": [
       "                                          id   item_date quantity tons  \\\n",
       "0       EC06F063-9DF0-440C-8764-0B0C05A4F6AE  20210401.0     54.151139   \n",
       "1       4E5F4B3D-DDDF-499D-AFDE-A3227EC49425  20210401.0    768.024839   \n",
       "2       E140FF1B-2407-4C02-A0DD-780A093B1158  20210401.0    386.127949   \n",
       "3       F8D507A0-9C62-4EFE-831E-33E1DA53BB50  20210401.0    202.411065   \n",
       "4       4E1C4E78-152B-430A-8094-ADD889C9D0AD  20210401.0    785.526262   \n",
       "...                                      ...         ...           ...   \n",
       "181668  DE633116-D1DF-4846-982E-55EFC3658A76  20200702.0    102.482422   \n",
       "181669  A48374B1-E6DB-45F2-889A-1F9C27C099EB  20200702.0    208.086469   \n",
       "181670  91643238-5C7B-4237-9A5F-63AE3D35F320  20200702.0      4.235594   \n",
       "181671  7AFFD323-01D9-4E15-B80D-7D1B03498FC8  20200702.0         -2000   \n",
       "181672  AD0CA853-AE3C-4B2F-9FBB-8B0B965F84BC  20200702.0    406.686538   \n",
       "\n",
       "          customer  country status item type  application  thickness   width  \\\n",
       "0       30156308.0     28.0    Won         W         10.0       2.00  1500.0   \n",
       "1       30202938.0     25.0    Won         W         41.0       0.80  1210.0   \n",
       "2       30153963.0     30.0    Won        WI         28.0       0.38   952.0   \n",
       "3       30349574.0     32.0    Won         S         59.0       2.30  1317.0   \n",
       "4       30211560.0     28.0    Won         W         10.0       4.00  2000.0   \n",
       "...            ...      ...    ...       ...          ...        ...     ...   \n",
       "181668  30200854.0     25.0    Won         W         41.0       0.96  1220.0   \n",
       "181669  30200854.0     25.0    Won         W         41.0       0.95  1500.0   \n",
       "181670  30200854.0     25.0    Won         W         41.0       0.71  1250.0   \n",
       "181671  30200854.0     25.0    Won         W         41.0       0.85  1250.0   \n",
       "181672  30200854.0     25.0    Won         W         41.0       0.71  1240.0   \n",
       "\n",
       "                                    material_ref  product_ref  delivery date  \\\n",
       "0                                    DEQ1 S460MC   1670798778     20210701.0   \n",
       "1       0000000000000000000000000000000000104991   1668701718     20210401.0   \n",
       "2                                       S0380700       628377     20210101.0   \n",
       "3                        DX51D+ZM310MAO 2.3X1317   1668701718     20210101.0   \n",
       "4                                2_S275JR+AR-CL1       640665     20210301.0   \n",
       "...                                          ...          ...            ...   \n",
       "181668  0000000000000000000000000000000001000777    164141591     20200701.0   \n",
       "181669  0000000000000000000000000000000001000227    164141591     20200701.0   \n",
       "181670  0000000000000000000000000000000001004216    164141591     20200701.0   \n",
       "181671  0000000000000000000000000000000001001149    164141591     20200701.0   \n",
       "181672  0000000000000000000000000000000001005439    164141591     20200701.0   \n",
       "\n",
       "        selling_price  \n",
       "0              854.00  \n",
       "1             1047.00  \n",
       "2              644.33  \n",
       "3              768.00  \n",
       "4              577.00  \n",
       "...               ...  \n",
       "181668         591.00  \n",
       "181669         589.00  \n",
       "181670         619.00  \n",
       "181671         601.00  \n",
       "181672         607.00  \n",
       "\n",
       "[181673 rows x 14 columns]"
      ]
     },
     "execution_count": 3,
     "metadata": {},
     "output_type": "execute_result"
    }
   ],
   "source": [
    "data"
   ]
  },
  {
   "cell_type": "code",
   "execution_count": 4,
   "id": "3711c990",
   "metadata": {},
   "outputs": [
    {
     "data": {
      "text/plain": [
       "(181673, 14)"
      ]
     },
     "execution_count": 4,
     "metadata": {},
     "output_type": "execute_result"
    }
   ],
   "source": [
    "data.shape"
   ]
  },
  {
   "cell_type": "code",
   "execution_count": 5,
   "id": "dff6fe69",
   "metadata": {},
   "outputs": [
    {
     "data": {
      "text/plain": [
       "id                   2\n",
       "item_date            1\n",
       "quantity tons        0\n",
       "customer             1\n",
       "country             28\n",
       "status               2\n",
       "item type            0\n",
       "application         24\n",
       "thickness            1\n",
       "width                0\n",
       "material_ref     77919\n",
       "product_ref          0\n",
       "delivery date        1\n",
       "selling_price        1\n",
       "dtype: int64"
      ]
     },
     "execution_count": 5,
     "metadata": {},
     "output_type": "execute_result"
    }
   ],
   "source": [
    "data.isnull().sum()"
   ]
  },
  {
   "cell_type": "code",
   "execution_count": 6,
   "id": "3fa3846c",
   "metadata": {},
   "outputs": [
    {
     "data": {
      "text/plain": [
       "id                0.001101\n",
       "item_date         0.000550\n",
       "quantity tons     0.000000\n",
       "customer          0.000550\n",
       "country           0.015412\n",
       "status            0.001101\n",
       "item type         0.000000\n",
       "application       0.013211\n",
       "thickness         0.000550\n",
       "width             0.000000\n",
       "material_ref     42.889697\n",
       "product_ref       0.000000\n",
       "delivery date     0.000550\n",
       "selling_price     0.000550\n",
       "dtype: float64"
      ]
     },
     "execution_count": 6,
     "metadata": {},
     "output_type": "execute_result"
    }
   ],
   "source": [
    "# looking for the percentage of null data in the dataframe\n",
    "null_percentage = data.isnull().mean()*100\n",
    "null_percentage"
   ]
  },
  {
   "cell_type": "markdown",
   "id": "f2d10875",
   "metadata": {},
   "source": [
    "# Data Cleaning"
   ]
  },
  {
   "cell_type": "code",
   "execution_count": 7,
   "id": "c01c8a23",
   "metadata": {},
   "outputs": [],
   "source": [
    "#dealing with data in worng format.\n",
    "data['item_date'] = pd.to_datetime(data['item_date'], format='%Y%m%d', errors='coerce').dt.date\n",
    "data['quantity tons'] = pd.to_numeric(data['quantity tons'], errors='coerce')\n",
    "data['customer'] = pd.to_numeric(data['customer'], errors='coerce')\n",
    "data['country'] = pd.to_numeric(data['country'], errors='coerce')\n",
    "data['application'] = pd.to_numeric(data['application'], errors='coerce')\n",
    "data['thickness'] = pd.to_numeric(data['thickness'], errors='coerce')\n",
    "data['width'] = pd.to_numeric(data['width'], errors='coerce')\n",
    "data['material_ref'] = data['material_ref'].str.lstrip('0')\n",
    "data['product_ref'] = pd.to_numeric(data['product_ref'], errors='coerce')\n",
    "data['delivery date'] = pd.to_datetime(data['delivery date'],format='%Y%m%d',errors='coerce').dt.date\n",
    "data['selling_price'] = pd.to_numeric(data['selling_price'], errors='coerce')"
   ]
  },
  {
   "cell_type": "markdown",
   "id": "5d5e5ea2",
   "metadata": {},
   "source": [
    "## Dealing with Missing Values"
   ]
  },
  {
   "cell_type": "code",
   "execution_count": 8,
   "id": "9db1d032",
   "metadata": {},
   "outputs": [],
   "source": [
    "# material_ref has large set of null values, so replacing them with unknown \n",
    "data['material_ref'].fillna('unknown', inplace=True)\n",
    "# deleting the remaining null values as they are less than 1% of data which can be neglected\n",
    "data = data.dropna()"
   ]
  },
  {
   "cell_type": "raw",
   "id": "286b2122",
   "metadata": {},
   "source": [
    "# filling the missing values using statistical techniques\n",
    "data = data.fillna({'item_date': st.mode(data['item_date']),\n",
    "                'delivery date': st.mode(data['delivery date']),\n",
    "                'quantity tons': data['quantity tons'].mean(),\n",
    "                'customer': data['customer'].mean(),\n",
    "                'country': data['country'].mean(),\n",
    "                'application': data['application'].mean(),\n",
    "                'selling_price': data['selling_price'].mean(),\n",
    "                'thickness': data['thickness'].median()})\n",
    "data['status'].fillna(data['status'].mode()[0], inplace = True)"
   ]
  },
  {
   "cell_type": "code",
   "execution_count": 10,
   "id": "c17b7beb",
   "metadata": {
    "scrolled": true
   },
   "outputs": [
    {
     "data": {
      "text/plain": [
       "id               0\n",
       "item_date        0\n",
       "quantity tons    0\n",
       "customer         0\n",
       "country          0\n",
       "status           0\n",
       "item type        0\n",
       "application      0\n",
       "thickness        0\n",
       "width            0\n",
       "material_ref     0\n",
       "product_ref      0\n",
       "delivery date    0\n",
       "selling_price    0\n",
       "dtype: int64"
      ]
     },
     "execution_count": 10,
     "metadata": {},
     "output_type": "execute_result"
    }
   ],
   "source": [
    "data.isnull().sum()"
   ]
  },
  {
   "cell_type": "code",
   "execution_count": 11,
   "id": "9ffc3277",
   "metadata": {},
   "outputs": [
    {
     "data": {
      "text/plain": [
       "id                object\n",
       "item_date         object\n",
       "quantity tons    float64\n",
       "customer         float64\n",
       "country          float64\n",
       "status            object\n",
       "item type         object\n",
       "application      float64\n",
       "thickness        float64\n",
       "width            float64\n",
       "material_ref      object\n",
       "product_ref        int64\n",
       "delivery date     object\n",
       "selling_price    float64\n",
       "dtype: object"
      ]
     },
     "execution_count": 11,
     "metadata": {},
     "output_type": "execute_result"
    }
   ],
   "source": [
    "data.dtypes"
   ]
  },
  {
   "cell_type": "code",
   "execution_count": 13,
   "id": "b949f978",
   "metadata": {},
   "outputs": [
    {
     "name": "stdout",
     "output_type": "stream",
     "text": [
      "<class 'pandas.core.frame.DataFrame'>\n",
      "Index: 181631 entries, 0 to 181672\n",
      "Data columns (total 14 columns):\n",
      " #   Column         Non-Null Count   Dtype  \n",
      "---  ------         --------------   -----  \n",
      " 0   id             181631 non-null  object \n",
      " 1   item_date      181631 non-null  object \n",
      " 2   quantity tons  181631 non-null  float64\n",
      " 3   customer       181631 non-null  float64\n",
      " 4   country        181631 non-null  float64\n",
      " 5   status         181631 non-null  object \n",
      " 6   item type      181631 non-null  object \n",
      " 7   application    181631 non-null  float64\n",
      " 8   thickness      181631 non-null  float64\n",
      " 9   width          181631 non-null  float64\n",
      " 10  material_ref   181631 non-null  object \n",
      " 11  product_ref    181631 non-null  int64  \n",
      " 12  delivery date  181631 non-null  object \n",
      " 13  selling_price  181631 non-null  float64\n",
      "dtypes: float64(7), int64(1), object(6)\n",
      "memory usage: 20.8+ MB\n"
     ]
    }
   ],
   "source": [
    "data.info()"
   ]
  },
  {
   "cell_type": "code",
   "execution_count": 14,
   "id": "64a99a48",
   "metadata": {},
   "outputs": [
    {
     "data": {
      "text/html": [
       "<div>\n",
       "<style scoped>\n",
       "    .dataframe tbody tr th:only-of-type {\n",
       "        vertical-align: middle;\n",
       "    }\n",
       "\n",
       "    .dataframe tbody tr th {\n",
       "        vertical-align: top;\n",
       "    }\n",
       "\n",
       "    .dataframe thead th {\n",
       "        text-align: right;\n",
       "    }\n",
       "</style>\n",
       "<table border=\"1\" class=\"dataframe\">\n",
       "  <thead>\n",
       "    <tr style=\"text-align: right;\">\n",
       "      <th></th>\n",
       "      <th>count</th>\n",
       "      <th>mean</th>\n",
       "      <th>std</th>\n",
       "      <th>min</th>\n",
       "      <th>25%</th>\n",
       "      <th>50%</th>\n",
       "      <th>75%</th>\n",
       "      <th>max</th>\n",
       "    </tr>\n",
       "  </thead>\n",
       "  <tbody>\n",
       "    <tr>\n",
       "      <th>quantity tons</th>\n",
       "      <td>181631.0</td>\n",
       "      <td>5.876231e+03</td>\n",
       "      <td>2.349346e+06</td>\n",
       "      <td>-2000.00</td>\n",
       "      <td>1.096801e+01</td>\n",
       "      <td>3.036395e+01</td>\n",
       "      <td>6.716187e+01</td>\n",
       "      <td>1.000000e+09</td>\n",
       "    </tr>\n",
       "    <tr>\n",
       "      <th>customer</th>\n",
       "      <td>181631.0</td>\n",
       "      <td>3.023251e+07</td>\n",
       "      <td>1.005626e+05</td>\n",
       "      <td>12458.00</td>\n",
       "      <td>3.019688e+07</td>\n",
       "      <td>3.020524e+07</td>\n",
       "      <td>3.028042e+07</td>\n",
       "      <td>3.040818e+07</td>\n",
       "    </tr>\n",
       "    <tr>\n",
       "      <th>country</th>\n",
       "      <td>181631.0</td>\n",
       "      <td>4.489320e+01</td>\n",
       "      <td>2.440430e+01</td>\n",
       "      <td>25.00</td>\n",
       "      <td>2.600000e+01</td>\n",
       "      <td>3.000000e+01</td>\n",
       "      <td>7.800000e+01</td>\n",
       "      <td>1.130000e+02</td>\n",
       "    </tr>\n",
       "    <tr>\n",
       "      <th>application</th>\n",
       "      <td>181631.0</td>\n",
       "      <td>2.561597e+01</td>\n",
       "      <td>1.775382e+01</td>\n",
       "      <td>2.00</td>\n",
       "      <td>1.000000e+01</td>\n",
       "      <td>1.500000e+01</td>\n",
       "      <td>4.100000e+01</td>\n",
       "      <td>9.900000e+01</td>\n",
       "    </tr>\n",
       "    <tr>\n",
       "      <th>thickness</th>\n",
       "      <td>181631.0</td>\n",
       "      <td>2.564198e+00</td>\n",
       "      <td>6.572637e+00</td>\n",
       "      <td>0.18</td>\n",
       "      <td>7.000000e-01</td>\n",
       "      <td>1.500000e+00</td>\n",
       "      <td>3.000000e+00</td>\n",
       "      <td>2.500000e+03</td>\n",
       "    </tr>\n",
       "    <tr>\n",
       "      <th>width</th>\n",
       "      <td>181631.0</td>\n",
       "      <td>1.295267e+03</td>\n",
       "      <td>2.616441e+02</td>\n",
       "      <td>1.00</td>\n",
       "      <td>1.180000e+03</td>\n",
       "      <td>1.250000e+03</td>\n",
       "      <td>1.500000e+03</td>\n",
       "      <td>2.990000e+03</td>\n",
       "    </tr>\n",
       "    <tr>\n",
       "      <th>product_ref</th>\n",
       "      <td>181631.0</td>\n",
       "      <td>4.740398e+08</td>\n",
       "      <td>7.175426e+08</td>\n",
       "      <td>611728.00</td>\n",
       "      <td>6.119930e+05</td>\n",
       "      <td>6.406650e+05</td>\n",
       "      <td>1.332077e+09</td>\n",
       "      <td>1.722208e+09</td>\n",
       "    </tr>\n",
       "    <tr>\n",
       "      <th>selling_price</th>\n",
       "      <td>181631.0</td>\n",
       "      <td>1.918367e+03</td>\n",
       "      <td>3.318331e+05</td>\n",
       "      <td>-1160.00</td>\n",
       "      <td>6.690000e+02</td>\n",
       "      <td>8.120000e+02</td>\n",
       "      <td>9.530000e+02</td>\n",
       "      <td>1.000010e+08</td>\n",
       "    </tr>\n",
       "  </tbody>\n",
       "</table>\n",
       "</div>"
      ],
      "text/plain": [
       "                  count          mean           std        min           25%  \\\n",
       "quantity tons  181631.0  5.876231e+03  2.349346e+06   -2000.00  1.096801e+01   \n",
       "customer       181631.0  3.023251e+07  1.005626e+05   12458.00  3.019688e+07   \n",
       "country        181631.0  4.489320e+01  2.440430e+01      25.00  2.600000e+01   \n",
       "application    181631.0  2.561597e+01  1.775382e+01       2.00  1.000000e+01   \n",
       "thickness      181631.0  2.564198e+00  6.572637e+00       0.18  7.000000e-01   \n",
       "width          181631.0  1.295267e+03  2.616441e+02       1.00  1.180000e+03   \n",
       "product_ref    181631.0  4.740398e+08  7.175426e+08  611728.00  6.119930e+05   \n",
       "selling_price  181631.0  1.918367e+03  3.318331e+05   -1160.00  6.690000e+02   \n",
       "\n",
       "                        50%           75%           max  \n",
       "quantity tons  3.036395e+01  6.716187e+01  1.000000e+09  \n",
       "customer       3.020524e+07  3.028042e+07  3.040818e+07  \n",
       "country        3.000000e+01  7.800000e+01  1.130000e+02  \n",
       "application    1.500000e+01  4.100000e+01  9.900000e+01  \n",
       "thickness      1.500000e+00  3.000000e+00  2.500000e+03  \n",
       "width          1.250000e+03  1.500000e+03  2.990000e+03  \n",
       "product_ref    6.406650e+05  1.332077e+09  1.722208e+09  \n",
       "selling_price  8.120000e+02  9.530000e+02  1.000010e+08  "
      ]
     },
     "execution_count": 14,
     "metadata": {},
     "output_type": "execute_result"
    }
   ],
   "source": [
    "data.describe().T"
   ]
  },
  {
   "cell_type": "code",
   "execution_count": 15,
   "id": "0ee25e6b",
   "metadata": {},
   "outputs": [],
   "source": [
    "data1=data.copy()"
   ]
  },
  {
   "cell_type": "code",
   "execution_count": 17,
   "id": "a106430d",
   "metadata": {},
   "outputs": [
    {
     "data": {
      "text/plain": [
       "(181631, 14)"
      ]
     },
     "execution_count": 17,
     "metadata": {},
     "output_type": "execute_result"
    }
   ],
   "source": [
    "data.shape"
   ]
  },
  {
   "cell_type": "markdown",
   "id": "09d9c279",
   "metadata": {},
   "source": [
    "## Quantity tons"
   ]
  },
  {
   "cell_type": "code",
   "execution_count": 20,
   "id": "c672afd3",
   "metadata": {},
   "outputs": [
    {
     "data": {
      "text/plain": [
       "0"
      ]
     },
     "execution_count": 20,
     "metadata": {},
     "output_type": "execute_result"
    }
   ],
   "source": [
    "data1['quantity tons'].isna().sum()"
   ]
  },
  {
   "cell_type": "code",
   "execution_count": 21,
   "id": "1c8f845f",
   "metadata": {},
   "outputs": [
    {
     "data": {
      "text/plain": [
       "quantity tons\n",
       "54.151139      1\n",
       "83.215828      1\n",
       "50.496085      1\n",
       "332.904784     1\n",
       "133.157235     1\n",
       "              ..\n",
       "14.503911      1\n",
       "4.977580       1\n",
       "1003.530017    1\n",
       "5.415144       1\n",
       "406.686538     1\n",
       "Name: count, Length: 181631, dtype: int64"
      ]
     },
     "execution_count": 21,
     "metadata": {},
     "output_type": "execute_result"
    }
   ],
   "source": [
    "data1['quantity tons'].value_counts()"
   ]
  },
  {
   "cell_type": "code",
   "execution_count": 22,
   "id": "2e25f126",
   "metadata": {},
   "outputs": [
    {
     "data": {
      "text/plain": [
       "(151.452650579015,\n",
       " -73.32276687971411,\n",
       " count    1.816310e+05\n",
       " mean     5.876231e+03\n",
       " std      2.349346e+06\n",
       " min     -2.000000e+03\n",
       " 25%      1.096801e+01\n",
       " 50%      3.036395e+01\n",
       " 75%      6.716187e+01\n",
       " max      1.000000e+09\n",
       " Name: quantity tons, dtype: float64)"
      ]
     },
     "execution_count": 22,
     "metadata": {},
     "output_type": "execute_result"
    }
   ],
   "source": [
    "q3 = data1['quantity tons'].quantile(0.75)\n",
    "q1 = data1['quantity tons'].quantile(0.25)\n",
    "iqr = q3 - q1\n",
    "\n",
    "upper_threshold = q3 + (1.5 * iqr)\n",
    "lower_threshold = q1 - (1.5 * iqr)\n",
    "\n",
    "upper_threshold, lower_threshold, data1['quantity tons'].describe()"
   ]
  },
  {
   "cell_type": "markdown",
   "id": "f521e39d",
   "metadata": {},
   "source": [
    "## Customer"
   ]
  },
  {
   "cell_type": "code",
   "execution_count": 23,
   "id": "30de14c1",
   "metadata": {},
   "outputs": [
    {
     "data": {
      "text/plain": [
       "0"
      ]
     },
     "execution_count": 23,
     "metadata": {},
     "output_type": "execute_result"
    }
   ],
   "source": [
    "data1['customer'].isna().sum()"
   ]
  },
  {
   "cell_type": "code",
   "execution_count": 24,
   "id": "3b2eb64c",
   "metadata": {},
   "outputs": [
    {
     "data": {
      "text/plain": [
       "customer\n",
       "30157111.0    4987\n",
       "30161088.0    3733\n",
       "30201846.0    3152\n",
       "30165529.0    2728\n",
       "30202938.0    2570\n",
       "              ... \n",
       "30270967.0       1\n",
       "30156325.0       1\n",
       "30344406.0       1\n",
       "30156184.0       1\n",
       "30207273.0       1\n",
       "Name: count, Length: 1167, dtype: int64"
      ]
     },
     "execution_count": 24,
     "metadata": {},
     "output_type": "execute_result"
    }
   ],
   "source": [
    "data1['customer'].value_counts()"
   ]
  },
  {
   "cell_type": "code",
   "execution_count": 25,
   "id": "c86503a3",
   "metadata": {},
   "outputs": [
    {
     "data": {
      "text/plain": [
       "(30405714.0,\n",
       " 30322182.0,\n",
       " count    1.816310e+05\n",
       " mean     3.023251e+07\n",
       " std      1.005626e+05\n",
       " min      1.245800e+04\n",
       " 25%      3.019688e+07\n",
       " 50%      3.020524e+07\n",
       " 75%      3.028042e+07\n",
       " max      3.040818e+07\n",
       " Name: customer, dtype: float64)"
      ]
     },
     "execution_count": 25,
     "metadata": {},
     "output_type": "execute_result"
    }
   ],
   "source": [
    "q3 = data1['customer'].quantile(0.75)\n",
    "q1 = data1['customer'].quantile(0.25)\n",
    "iqr = q3-q1\n",
    "upper_threshold = q3+(1.5*iqr)\n",
    "lower_threshold = q1+(1.5*iqr)\n",
    "\n",
    "upper_threshold, lower_threshold, data1['customer'].describe()"
   ]
  },
  {
   "cell_type": "markdown",
   "id": "0916427c",
   "metadata": {},
   "source": [
    "## Country"
   ]
  },
  {
   "cell_type": "code",
   "execution_count": 26,
   "id": "ca522d7e",
   "metadata": {},
   "outputs": [
    {
     "data": {
      "text/plain": [
       "0"
      ]
     },
     "execution_count": 26,
     "metadata": {},
     "output_type": "execute_result"
    }
   ],
   "source": [
    "data1['country'].isna().sum()"
   ]
  },
  {
   "cell_type": "code",
   "execution_count": 27,
   "id": "a2d223e6",
   "metadata": {},
   "outputs": [
    {
     "data": {
      "text/plain": [
       "country\n",
       "78.0     32083\n",
       "26.0     27514\n",
       "25.0     23361\n",
       "27.0     21508\n",
       "32.0     18658\n",
       "28.0     15821\n",
       "84.0     12776\n",
       "77.0      9713\n",
       "30.0      8702\n",
       "39.0      3730\n",
       "79.0      2742\n",
       "38.0      1712\n",
       "40.0      1683\n",
       "80.0       817\n",
       "113.0      714\n",
       "89.0        92\n",
       "107.0        5\n",
       "Name: count, dtype: int64"
      ]
     },
     "execution_count": 27,
     "metadata": {},
     "output_type": "execute_result"
    }
   ],
   "source": [
    "data1['country'].value_counts()"
   ]
  },
  {
   "cell_type": "code",
   "execution_count": 28,
   "id": "b7d31ae8",
   "metadata": {},
   "outputs": [
    {
     "data": {
      "text/plain": [
       "(156.0,\n",
       " 104.0,\n",
       " count    181631.000000\n",
       " mean         44.893201\n",
       " std          24.404303\n",
       " min          25.000000\n",
       " 25%          26.000000\n",
       " 50%          30.000000\n",
       " 75%          78.000000\n",
       " max         113.000000\n",
       " Name: country, dtype: float64)"
      ]
     },
     "execution_count": 28,
     "metadata": {},
     "output_type": "execute_result"
    }
   ],
   "source": [
    "q3 = data1['country'].quantile(0.75)\n",
    "q1 = data1['country'].quantile(0.25)\n",
    "iqr=q3-q1\n",
    "upper_threshold = q3+(1.5*iqr)\n",
    "lower_threshold = q1+(1.5*iqr)\n",
    "\n",
    "upper_threshold, lower_threshold, data1['country'].describe()"
   ]
  },
  {
   "cell_type": "markdown",
   "id": "fbed335c",
   "metadata": {},
   "source": [
    "## status"
   ]
  },
  {
   "cell_type": "code",
   "execution_count": 29,
   "id": "0d8fd1ac",
   "metadata": {},
   "outputs": [
    {
     "data": {
      "text/plain": [
       "0"
      ]
     },
     "execution_count": 29,
     "metadata": {},
     "output_type": "execute_result"
    }
   ],
   "source": [
    "data1['status'].isna().sum()"
   ]
  },
  {
   "cell_type": "code",
   "execution_count": 30,
   "id": "c1249531",
   "metadata": {},
   "outputs": [
    {
     "data": {
      "text/plain": [
       "status\n",
       "Won                116004\n",
       "Lost                34431\n",
       "Not lost for AM     19568\n",
       "Revised              4276\n",
       "To be approved       4167\n",
       "Draft                3121\n",
       "Offered                53\n",
       "Offerable              10\n",
       "Wonderful               1\n",
       "Name: count, dtype: int64"
      ]
     },
     "execution_count": 30,
     "metadata": {},
     "output_type": "execute_result"
    }
   ],
   "source": [
    "data1['status'].value_counts()"
   ]
  },
  {
   "cell_type": "markdown",
   "id": "c1447332",
   "metadata": {},
   "source": [
    "## item type"
   ]
  },
  {
   "cell_type": "code",
   "execution_count": 31,
   "id": "ee3af6dc",
   "metadata": {},
   "outputs": [
    {
     "data": {
      "text/plain": [
       "item type\n",
       "W         105607\n",
       "S          69202\n",
       "PL          5660\n",
       "Others       610\n",
       "WI           524\n",
       "IPL           27\n",
       "SLAWR          1\n",
       "Name: count, dtype: int64"
      ]
     },
     "execution_count": 31,
     "metadata": {},
     "output_type": "execute_result"
    }
   ],
   "source": [
    "data1['item type'].value_counts()"
   ]
  },
  {
   "cell_type": "markdown",
   "id": "396de184",
   "metadata": {},
   "source": [
    "## Application"
   ]
  },
  {
   "cell_type": "code",
   "execution_count": 32,
   "id": "f91d6313",
   "metadata": {},
   "outputs": [
    {
     "data": {
      "text/plain": [
       "application\n",
       "10.0    77534\n",
       "41.0    46259\n",
       "15.0    20771\n",
       "59.0     8925\n",
       "42.0     5857\n",
       "56.0     4846\n",
       "29.0     1937\n",
       "27.0     1784\n",
       "26.0     1650\n",
       "28.0     1591\n",
       "40.0     1576\n",
       "25.0     1498\n",
       "79.0     1422\n",
       "22.0     1023\n",
       "20.0      768\n",
       "66.0      718\n",
       "3.0       657\n",
       "38.0      511\n",
       "58.0      447\n",
       "4.0       285\n",
       "39.0      267\n",
       "65.0      247\n",
       "67.0      221\n",
       "68.0      181\n",
       "99.0      146\n",
       "19.0      143\n",
       "69.0      122\n",
       "5.0       110\n",
       "70.0      101\n",
       "2.0        34\n",
       "Name: count, dtype: int64"
      ]
     },
     "execution_count": 32,
     "metadata": {},
     "output_type": "execute_result"
    }
   ],
   "source": [
    "data1['application'].value_counts()"
   ]
  },
  {
   "cell_type": "code",
   "execution_count": 33,
   "id": "64e62e07",
   "metadata": {},
   "outputs": [
    {
     "data": {
      "text/plain": [
       "(87.5,\n",
       " 56.5,\n",
       " count    181631.000000\n",
       " mean         25.615974\n",
       " std          17.753821\n",
       " min           2.000000\n",
       " 25%          10.000000\n",
       " 50%          15.000000\n",
       " 75%          41.000000\n",
       " max          99.000000\n",
       " Name: application, dtype: float64)"
      ]
     },
     "execution_count": 33,
     "metadata": {},
     "output_type": "execute_result"
    }
   ],
   "source": [
    "q3 = data1['application'].quantile(0.75)\n",
    "q1 = data1['application'].quantile(0.25)\n",
    "iqr=q3-q1\n",
    "upper_threshold = q3+(1.5*iqr)\n",
    "lower_threshold = q1+(1.5*iqr)\n",
    "\n",
    "upper_threshold, lower_threshold, data1['application'].describe()"
   ]
  },
  {
   "cell_type": "markdown",
   "id": "aa9bce52",
   "metadata": {},
   "source": [
    "## Thickness"
   ]
  },
  {
   "cell_type": "code",
   "execution_count": 34,
   "id": "5c8cf568",
   "metadata": {},
   "outputs": [
    {
     "data": {
      "text/plain": [
       "thickness\n",
       "2.00     13468\n",
       "3.00     13206\n",
       "0.50     12246\n",
       "1.50     11731\n",
       "1.00      9473\n",
       "         ...  \n",
       "7.06         1\n",
       "9.39         1\n",
       "15.66        1\n",
       "2.28         1\n",
       "15.60        1\n",
       "Name: count, Length: 594, dtype: int64"
      ]
     },
     "execution_count": 34,
     "metadata": {},
     "output_type": "execute_result"
    }
   ],
   "source": [
    "data1['thickness'].value_counts()"
   ]
  },
  {
   "cell_type": "code",
   "execution_count": 35,
   "id": "38fbbdae",
   "metadata": {},
   "outputs": [
    {
     "data": {
      "text/plain": [
       "(6.449999999999999,\n",
       " 4.1499999999999995,\n",
       " count    181631.000000\n",
       " mean          2.564198\n",
       " std           6.572637\n",
       " min           0.180000\n",
       " 25%           0.700000\n",
       " 50%           1.500000\n",
       " 75%           3.000000\n",
       " max        2500.000000\n",
       " Name: thickness, dtype: float64)"
      ]
     },
     "execution_count": 35,
     "metadata": {},
     "output_type": "execute_result"
    }
   ],
   "source": [
    "q3 = data1['thickness'].quantile(0.75)\n",
    "q1 = data1['thickness'].quantile(0.25)\n",
    "iqr=q3-q1\n",
    "upper_threshold = q3+(1.5*iqr)\n",
    "lower_threshold = q1+(1.5*iqr)\n",
    "\n",
    "upper_threshold, lower_threshold, data1['thickness'].describe()"
   ]
  },
  {
   "cell_type": "markdown",
   "id": "f54c87ec",
   "metadata": {},
   "source": [
    "## Width"
   ]
  },
  {
   "cell_type": "code",
   "execution_count": 36,
   "id": "6d8a9231",
   "metadata": {},
   "outputs": [
    {
     "data": {
      "text/plain": [
       "width\n",
       "1250.0    39145\n",
       "1500.0    32656\n",
       "1000.0    12269\n",
       "2000.0     7613\n",
       "1220.0     4783\n",
       "          ...  \n",
       "881.0         1\n",
       "656.0         1\n",
       "406.0         1\n",
       "234.0         1\n",
       "1786.0        1\n",
       "Name: count, Length: 1386, dtype: int64"
      ]
     },
     "execution_count": 36,
     "metadata": {},
     "output_type": "execute_result"
    }
   ],
   "source": [
    "data1['width'].value_counts()"
   ]
  },
  {
   "cell_type": "code",
   "execution_count": 37,
   "id": "737cf26f",
   "metadata": {},
   "outputs": [
    {
     "data": {
      "text/plain": [
       "(1980.0,\n",
       " 1660.0,\n",
       " count    181631.000000\n",
       " mean       1295.267162\n",
       " std         261.644078\n",
       " min           1.000000\n",
       " 25%        1180.000000\n",
       " 50%        1250.000000\n",
       " 75%        1500.000000\n",
       " max        2990.000000\n",
       " Name: width, dtype: float64)"
      ]
     },
     "execution_count": 37,
     "metadata": {},
     "output_type": "execute_result"
    }
   ],
   "source": [
    "q3 = data1['width'].quantile(0.75)\n",
    "q1 = data1['width'].quantile(0.25)\n",
    "iqr=q3-q1\n",
    "upper_threshold = q3+(1.5*iqr)\n",
    "lower_threshold = q1+(1.5*iqr)\n",
    "\n",
    "upper_threshold, lower_threshold, data1['width'].describe()"
   ]
  },
  {
   "cell_type": "markdown",
   "id": "a76fca85",
   "metadata": {},
   "source": [
    "## Product_ref"
   ]
  },
  {
   "cell_type": "code",
   "execution_count": 38,
   "id": "f97f0f26",
   "metadata": {},
   "outputs": [
    {
     "data": {
      "text/plain": [
       "product_ref\n",
       "611993        45720\n",
       "164141591     28782\n",
       "640665        27372\n",
       "1670798778    18915\n",
       "628377        18572\n",
       "1668701718    15282\n",
       "640405         9692\n",
       "1671863738     5162\n",
       "1332077137     4560\n",
       "1693867550     1825\n",
       "1668701376     1216\n",
       "1671876026      823\n",
       "628117          775\n",
       "164337175       653\n",
       "1668701698      374\n",
       "1693867563      293\n",
       "1282007633      281\n",
       "1721130331      257\n",
       "1665572374      202\n",
       "628112          177\n",
       "611728          148\n",
       "1690738206      147\n",
       "1722207579      125\n",
       "640400           83\n",
       "1668701725       56\n",
       "164336407        49\n",
       "611733           45\n",
       "1690738219       19\n",
       "1665584320       12\n",
       "1665572032       10\n",
       "1665584642        2\n",
       "929423819         1\n",
       "1665584662        1\n",
       "Name: count, dtype: int64"
      ]
     },
     "execution_count": 38,
     "metadata": {},
     "output_type": "execute_result"
    }
   ],
   "source": [
    "data1['product_ref'].value_counts()"
   ]
  },
  {
   "cell_type": "code",
   "execution_count": 39,
   "id": "b1313153",
   "metadata": {},
   "outputs": [
    {
     "data": {
      "text/plain": [
       "(3329274853.0,\n",
       " 1997809709.0,\n",
       " count    1.816310e+05\n",
       " mean     4.740398e+08\n",
       " std      7.175426e+08\n",
       " min      6.117280e+05\n",
       " 25%      6.119930e+05\n",
       " 50%      6.406650e+05\n",
       " 75%      1.332077e+09\n",
       " max      1.722208e+09\n",
       " Name: product_ref, dtype: float64)"
      ]
     },
     "execution_count": 39,
     "metadata": {},
     "output_type": "execute_result"
    }
   ],
   "source": [
    "q3 = data1['product_ref'].quantile(0.75)\n",
    "q1 = data1['product_ref'].quantile(0.25)\n",
    "iqr=q3-q1\n",
    "upper_threshold = q3+(1.5*iqr)\n",
    "lower_threshold = q1+(1.5*iqr)\n",
    "\n",
    "upper_threshold, lower_threshold, data1['product_ref'].describe()"
   ]
  },
  {
   "cell_type": "markdown",
   "id": "06bc2b66",
   "metadata": {},
   "source": [
    "## Delivery date"
   ]
  },
  {
   "cell_type": "code",
   "execution_count": 40,
   "id": "15d4859c",
   "metadata": {},
   "outputs": [
    {
     "data": {
      "text/plain": [
       "delivery date\n",
       "2021-01-01    33006\n",
       "2021-04-01    31957\n",
       "2020-10-01    25388\n",
       "2021-07-01    21079\n",
       "2021-05-01     9118\n",
       "2021-03-01     8848\n",
       "2020-07-01     7706\n",
       "2020-12-01     7529\n",
       "2021-02-01     7291\n",
       "2020-11-01     7179\n",
       "2021-06-01     7004\n",
       "2020-09-01     6131\n",
       "2020-08-01     4865\n",
       "2021-08-01     3748\n",
       "2021-09-01      332\n",
       "2021-10-01      191\n",
       "2020-01-01      129\n",
       "2020-04-01       57\n",
       "2020-06-01       33\n",
       "2020-05-01       15\n",
       "2021-12-01       12\n",
       "2022-01-01        6\n",
       "2019-07-01        3\n",
       "2021-11-01        2\n",
       "2019-04-01        1\n",
       "2019-10-01        1\n",
       "Name: count, dtype: int64"
      ]
     },
     "execution_count": 40,
     "metadata": {},
     "output_type": "execute_result"
    }
   ],
   "source": [
    "data1['delivery date'].value_counts()"
   ]
  },
  {
   "cell_type": "code",
   "execution_count": 42,
   "id": "b88261ed",
   "metadata": {
    "scrolled": true
   },
   "outputs": [
    {
     "data": {
      "text/html": [
       "<div>\n",
       "<style scoped>\n",
       "    .dataframe tbody tr th:only-of-type {\n",
       "        vertical-align: middle;\n",
       "    }\n",
       "\n",
       "    .dataframe tbody tr th {\n",
       "        vertical-align: top;\n",
       "    }\n",
       "\n",
       "    .dataframe thead th {\n",
       "        text-align: right;\n",
       "    }\n",
       "</style>\n",
       "<table border=\"1\" class=\"dataframe\">\n",
       "  <thead>\n",
       "    <tr style=\"text-align: right;\">\n",
       "      <th></th>\n",
       "      <th>id</th>\n",
       "      <th>item_date</th>\n",
       "      <th>quantity tons</th>\n",
       "      <th>customer</th>\n",
       "      <th>country</th>\n",
       "      <th>status</th>\n",
       "      <th>item type</th>\n",
       "      <th>application</th>\n",
       "      <th>thickness</th>\n",
       "      <th>width</th>\n",
       "      <th>material_ref</th>\n",
       "      <th>product_ref</th>\n",
       "      <th>delivery date</th>\n",
       "      <th>selling_price</th>\n",
       "    </tr>\n",
       "  </thead>\n",
       "  <tbody>\n",
       "    <tr>\n",
       "      <th>0</th>\n",
       "      <td>EC06F063-9DF0-440C-8764-0B0C05A4F6AE</td>\n",
       "      <td>2021-04-01</td>\n",
       "      <td>54.151139</td>\n",
       "      <td>30156308.0</td>\n",
       "      <td>28.0</td>\n",
       "      <td>Won</td>\n",
       "      <td>W</td>\n",
       "      <td>10.0</td>\n",
       "      <td>2.00</td>\n",
       "      <td>1500.0</td>\n",
       "      <td>DEQ1 S460MC</td>\n",
       "      <td>1670798778</td>\n",
       "      <td>2021-07-01</td>\n",
       "      <td>854.00</td>\n",
       "    </tr>\n",
       "    <tr>\n",
       "      <th>1</th>\n",
       "      <td>4E5F4B3D-DDDF-499D-AFDE-A3227EC49425</td>\n",
       "      <td>2021-04-01</td>\n",
       "      <td>768.024839</td>\n",
       "      <td>30202938.0</td>\n",
       "      <td>25.0</td>\n",
       "      <td>Won</td>\n",
       "      <td>W</td>\n",
       "      <td>41.0</td>\n",
       "      <td>0.80</td>\n",
       "      <td>1210.0</td>\n",
       "      <td>104991</td>\n",
       "      <td>1668701718</td>\n",
       "      <td>2021-04-01</td>\n",
       "      <td>1047.00</td>\n",
       "    </tr>\n",
       "    <tr>\n",
       "      <th>2</th>\n",
       "      <td>E140FF1B-2407-4C02-A0DD-780A093B1158</td>\n",
       "      <td>2021-04-01</td>\n",
       "      <td>386.127949</td>\n",
       "      <td>30153963.0</td>\n",
       "      <td>30.0</td>\n",
       "      <td>Won</td>\n",
       "      <td>WI</td>\n",
       "      <td>28.0</td>\n",
       "      <td>0.38</td>\n",
       "      <td>952.0</td>\n",
       "      <td>S0380700</td>\n",
       "      <td>628377</td>\n",
       "      <td>2021-01-01</td>\n",
       "      <td>644.33</td>\n",
       "    </tr>\n",
       "    <tr>\n",
       "      <th>3</th>\n",
       "      <td>F8D507A0-9C62-4EFE-831E-33E1DA53BB50</td>\n",
       "      <td>2021-04-01</td>\n",
       "      <td>202.411065</td>\n",
       "      <td>30349574.0</td>\n",
       "      <td>32.0</td>\n",
       "      <td>Won</td>\n",
       "      <td>S</td>\n",
       "      <td>59.0</td>\n",
       "      <td>2.30</td>\n",
       "      <td>1317.0</td>\n",
       "      <td>DX51D+ZM310MAO 2.3X1317</td>\n",
       "      <td>1668701718</td>\n",
       "      <td>2021-01-01</td>\n",
       "      <td>768.00</td>\n",
       "    </tr>\n",
       "    <tr>\n",
       "      <th>4</th>\n",
       "      <td>4E1C4E78-152B-430A-8094-ADD889C9D0AD</td>\n",
       "      <td>2021-04-01</td>\n",
       "      <td>785.526262</td>\n",
       "      <td>30211560.0</td>\n",
       "      <td>28.0</td>\n",
       "      <td>Won</td>\n",
       "      <td>W</td>\n",
       "      <td>10.0</td>\n",
       "      <td>4.00</td>\n",
       "      <td>2000.0</td>\n",
       "      <td>2_S275JR+AR-CL1</td>\n",
       "      <td>640665</td>\n",
       "      <td>2021-03-01</td>\n",
       "      <td>577.00</td>\n",
       "    </tr>\n",
       "    <tr>\n",
       "      <th>...</th>\n",
       "      <td>...</td>\n",
       "      <td>...</td>\n",
       "      <td>...</td>\n",
       "      <td>...</td>\n",
       "      <td>...</td>\n",
       "      <td>...</td>\n",
       "      <td>...</td>\n",
       "      <td>...</td>\n",
       "      <td>...</td>\n",
       "      <td>...</td>\n",
       "      <td>...</td>\n",
       "      <td>...</td>\n",
       "      <td>...</td>\n",
       "      <td>...</td>\n",
       "    </tr>\n",
       "    <tr>\n",
       "      <th>181668</th>\n",
       "      <td>DE633116-D1DF-4846-982E-55EFC3658A76</td>\n",
       "      <td>2020-07-02</td>\n",
       "      <td>102.482422</td>\n",
       "      <td>30200854.0</td>\n",
       "      <td>25.0</td>\n",
       "      <td>Won</td>\n",
       "      <td>W</td>\n",
       "      <td>41.0</td>\n",
       "      <td>0.96</td>\n",
       "      <td>1220.0</td>\n",
       "      <td>1000777</td>\n",
       "      <td>164141591</td>\n",
       "      <td>2020-07-01</td>\n",
       "      <td>591.00</td>\n",
       "    </tr>\n",
       "    <tr>\n",
       "      <th>181669</th>\n",
       "      <td>A48374B1-E6DB-45F2-889A-1F9C27C099EB</td>\n",
       "      <td>2020-07-02</td>\n",
       "      <td>208.086469</td>\n",
       "      <td>30200854.0</td>\n",
       "      <td>25.0</td>\n",
       "      <td>Won</td>\n",
       "      <td>W</td>\n",
       "      <td>41.0</td>\n",
       "      <td>0.95</td>\n",
       "      <td>1500.0</td>\n",
       "      <td>1000227</td>\n",
       "      <td>164141591</td>\n",
       "      <td>2020-07-01</td>\n",
       "      <td>589.00</td>\n",
       "    </tr>\n",
       "    <tr>\n",
       "      <th>181670</th>\n",
       "      <td>91643238-5C7B-4237-9A5F-63AE3D35F320</td>\n",
       "      <td>2020-07-02</td>\n",
       "      <td>4.235594</td>\n",
       "      <td>30200854.0</td>\n",
       "      <td>25.0</td>\n",
       "      <td>Won</td>\n",
       "      <td>W</td>\n",
       "      <td>41.0</td>\n",
       "      <td>0.71</td>\n",
       "      <td>1250.0</td>\n",
       "      <td>1004216</td>\n",
       "      <td>164141591</td>\n",
       "      <td>2020-07-01</td>\n",
       "      <td>619.00</td>\n",
       "    </tr>\n",
       "    <tr>\n",
       "      <th>181671</th>\n",
       "      <td>7AFFD323-01D9-4E15-B80D-7D1B03498FC8</td>\n",
       "      <td>2020-07-02</td>\n",
       "      <td>-2000.000000</td>\n",
       "      <td>30200854.0</td>\n",
       "      <td>25.0</td>\n",
       "      <td>Won</td>\n",
       "      <td>W</td>\n",
       "      <td>41.0</td>\n",
       "      <td>0.85</td>\n",
       "      <td>1250.0</td>\n",
       "      <td>1001149</td>\n",
       "      <td>164141591</td>\n",
       "      <td>2020-07-01</td>\n",
       "      <td>601.00</td>\n",
       "    </tr>\n",
       "    <tr>\n",
       "      <th>181672</th>\n",
       "      <td>AD0CA853-AE3C-4B2F-9FBB-8B0B965F84BC</td>\n",
       "      <td>2020-07-02</td>\n",
       "      <td>406.686538</td>\n",
       "      <td>30200854.0</td>\n",
       "      <td>25.0</td>\n",
       "      <td>Won</td>\n",
       "      <td>W</td>\n",
       "      <td>41.0</td>\n",
       "      <td>0.71</td>\n",
       "      <td>1240.0</td>\n",
       "      <td>1005439</td>\n",
       "      <td>164141591</td>\n",
       "      <td>2020-07-01</td>\n",
       "      <td>607.00</td>\n",
       "    </tr>\n",
       "  </tbody>\n",
       "</table>\n",
       "<p>181631 rows × 14 columns</p>\n",
       "</div>"
      ],
      "text/plain": [
       "                                          id   item_date  quantity tons  \\\n",
       "0       EC06F063-9DF0-440C-8764-0B0C05A4F6AE  2021-04-01      54.151139   \n",
       "1       4E5F4B3D-DDDF-499D-AFDE-A3227EC49425  2021-04-01     768.024839   \n",
       "2       E140FF1B-2407-4C02-A0DD-780A093B1158  2021-04-01     386.127949   \n",
       "3       F8D507A0-9C62-4EFE-831E-33E1DA53BB50  2021-04-01     202.411065   \n",
       "4       4E1C4E78-152B-430A-8094-ADD889C9D0AD  2021-04-01     785.526262   \n",
       "...                                      ...         ...            ...   \n",
       "181668  DE633116-D1DF-4846-982E-55EFC3658A76  2020-07-02     102.482422   \n",
       "181669  A48374B1-E6DB-45F2-889A-1F9C27C099EB  2020-07-02     208.086469   \n",
       "181670  91643238-5C7B-4237-9A5F-63AE3D35F320  2020-07-02       4.235594   \n",
       "181671  7AFFD323-01D9-4E15-B80D-7D1B03498FC8  2020-07-02   -2000.000000   \n",
       "181672  AD0CA853-AE3C-4B2F-9FBB-8B0B965F84BC  2020-07-02     406.686538   \n",
       "\n",
       "          customer  country status item type  application  thickness   width  \\\n",
       "0       30156308.0     28.0    Won         W         10.0       2.00  1500.0   \n",
       "1       30202938.0     25.0    Won         W         41.0       0.80  1210.0   \n",
       "2       30153963.0     30.0    Won        WI         28.0       0.38   952.0   \n",
       "3       30349574.0     32.0    Won         S         59.0       2.30  1317.0   \n",
       "4       30211560.0     28.0    Won         W         10.0       4.00  2000.0   \n",
       "...            ...      ...    ...       ...          ...        ...     ...   \n",
       "181668  30200854.0     25.0    Won         W         41.0       0.96  1220.0   \n",
       "181669  30200854.0     25.0    Won         W         41.0       0.95  1500.0   \n",
       "181670  30200854.0     25.0    Won         W         41.0       0.71  1250.0   \n",
       "181671  30200854.0     25.0    Won         W         41.0       0.85  1250.0   \n",
       "181672  30200854.0     25.0    Won         W         41.0       0.71  1240.0   \n",
       "\n",
       "                   material_ref  product_ref delivery date  selling_price  \n",
       "0                   DEQ1 S460MC   1670798778    2021-07-01         854.00  \n",
       "1                        104991   1668701718    2021-04-01        1047.00  \n",
       "2                      S0380700       628377    2021-01-01         644.33  \n",
       "3       DX51D+ZM310MAO 2.3X1317   1668701718    2021-01-01         768.00  \n",
       "4               2_S275JR+AR-CL1       640665    2021-03-01         577.00  \n",
       "...                         ...          ...           ...            ...  \n",
       "181668                  1000777    164141591    2020-07-01         591.00  \n",
       "181669                  1000227    164141591    2020-07-01         589.00  \n",
       "181670                  1004216    164141591    2020-07-01         619.00  \n",
       "181671                  1001149    164141591    2020-07-01         601.00  \n",
       "181672                  1005439    164141591    2020-07-01         607.00  \n",
       "\n",
       "[181631 rows x 14 columns]"
      ]
     },
     "execution_count": 42,
     "metadata": {},
     "output_type": "execute_result"
    }
   ],
   "source": [
    "data1.drop_duplicates()"
   ]
  },
  {
   "cell_type": "markdown",
   "id": "0b1fc0da",
   "metadata": {},
   "source": [
    "# EDA"
   ]
  },
  {
   "cell_type": "markdown",
   "id": "327f3e2f",
   "metadata": {},
   "source": [
    "## Data Visualization"
   ]
  },
  {
   "cell_type": "code",
   "execution_count": 19,
   "id": "d479d55f",
   "metadata": {},
   "outputs": [
    {
     "name": "stderr",
     "output_type": "stream",
     "text": [
      "C:\\Users\\vishalachi\\anaconda3\\Lib\\site-packages\\seaborn\\distributions.py:2551: FutureWarning: `distplot` is a deprecated function and will be removed in a future version. Please adapt your code to use either `displot` (a figure-level function with similar flexibility) or `histplot` (an axes-level function for histograms).\n",
      "  warnings.warn(msg, FutureWarning)\n"
     ]
    },
    {
     "data": {
      "image/png": "[encoded data removed]",
      "text/plain": [
       "<Figure size 640x480 with 1 Axes>"
      ]
     },
     "metadata": {},
     "output_type": "display_data"
    },
    {
     "name": "stderr",
     "output_type": "stream",
     "text": [
      "C:\\Users\\vishalachi\\anaconda3\\Lib\\site-packages\\seaborn\\distributions.py:2551: FutureWarning: `distplot` is a deprecated function and will be removed in a future version. Please adapt your code to use either `displot` (a figure-level function with similar flexibility) or `histplot` (an axes-level function for histograms).\n",
      "  warnings.warn(msg, FutureWarning)\n"
     ]
    },
    {
     "data": {
      "image/png": "[encoded data removed]",
      "text/plain": [
       "<Figure size 640x480 with 1 Axes>"
      ]
     },
     "metadata": {},
     "output_type": "display_data"
    },
    {
     "name": "stderr",
     "output_type": "stream",
     "text": [
      "C:\\Users\\vishalachi\\anaconda3\\Lib\\site-packages\\seaborn\\distributions.py:2551: FutureWarning: `distplot` is a deprecated function and will be removed in a future version. Please adapt your code to use either `displot` (a figure-level function with similar flexibility) or `histplot` (an axes-level function for histograms).\n",
      "  warnings.warn(msg, FutureWarning)\n"
     ]
    },
    {
     "data": {
      "image/png": "[encoded data removed]",
      "text/plain": [
       "<Figure size 640x480 with 1 Axes>"
      ]
     },
     "metadata": {},
     "output_type": "display_data"
    },
    {
     "name": "stderr",
     "output_type": "stream",
     "text": [
      "C:\\Users\\vishalachi\\anaconda3\\Lib\\site-packages\\seaborn\\distributions.py:2551: FutureWarning: `distplot` is a deprecated function and will be removed in a future version. Please adapt your code to use either `displot` (a figure-level function with similar flexibility) or `histplot` (an axes-level function for histograms).\n",
      "  warnings.warn(msg, FutureWarning)\n"
     ]
    },
    {
     "data": {
      "image/png": "[encoded data removed]",
      "text/plain": [
       "<Figure size 640x480 with 1 Axes>"
      ]
     },
     "metadata": {},
     "output_type": "display_data"
    },
    {
     "name": "stderr",
     "output_type": "stream",
     "text": [
      "C:\\Users\\vishalachi\\anaconda3\\Lib\\site-packages\\seaborn\\distributions.py:2551: FutureWarning: `distplot` is a deprecated function and will be removed in a future version. Please adapt your code to use either `displot` (a figure-level function with similar flexibility) or `histplot` (an axes-level function for histograms).\n",
      "  warnings.warn(msg, FutureWarning)\n"
     ]
    },
    {
     "data": {
      "image/png": "[encoded data removed]",
      "text/plain": [
       "<Figure size 640x480 with 1 Axes>"
      ]
     },
     "metadata": {},
     "output_type": "display_data"
    },
    {
     "name": "stderr",
     "output_type": "stream",
     "text": [
      "C:\\Users\\vishalachi\\anaconda3\\Lib\\site-packages\\seaborn\\distributions.py:2551: FutureWarning: `distplot` is a deprecated function and will be removed in a future version. Please adapt your code to use either `displot` (a figure-level function with similar flexibility) or `histplot` (an axes-level function for histograms).\n",
      "  warnings.warn(msg, FutureWarning)\n"
     ]
    },
    {
     "data": {
      "image/png": "[encoded data removed]",
      "text/plain": [
       "<Figure size 640x480 with 1 Axes>"
      ]
     },
     "metadata": {},
     "output_type": "display_data"
    }
   ],
   "source": [
    "data1['quantity tons']   # skewed\n",
    "data1['country']\n",
    "data1['application']\n",
    "data1['thickness']       # skewed\n",
    "data1['width']           \n",
    "data1['selling_price']   # skewed\n",
    "\n",
    "import seaborn as sns\n",
    "import matplotlib.pyplot as plt\n",
    "sns.distplot(data1['quantity tons'])\n",
    "plt.show()\n",
    "sns.distplot(data1['country'])\n",
    "plt.show()\n",
    "sns.distplot(data1['application'])\n",
    "plt.show()\n",
    "sns.distplot(data1['thickness'])\n",
    "plt.show()\n",
    "sns.distplot(data1['width'])\n",
    "plt.show()\n",
    "sns.distplot(data1['selling_price'])\n",
    "plt.show()"
   ]
  },
  {
   "cell_type": "code",
   "execution_count": 44,
   "id": "a411e290",
   "metadata": {},
   "outputs": [
    {
     "name": "stdout",
     "output_type": "stream",
     "text": [
      "7\n",
      "4\n",
      "0\n"
     ]
    }
   ],
   "source": [
    "import numpy as np\n",
    "mask1 = data1['selling_price'] <= 0\n",
    "print(mask1.sum())\n",
    "data1.loc[mask1, 'selling_price'] = np.nan\n",
    "\n",
    "mask1 = data1['quantity tons'] <= 0\n",
    "print(mask1.sum())\n",
    "data1.loc[mask1, 'quantity tons'] = np.nan\n",
    "\n",
    "mask1 = data1['thickness'] <= 0\n",
    "print(mask1.sum())"
   ]
  },
  {
   "cell_type": "code",
   "execution_count": 45,
   "id": "873622a0",
   "metadata": {},
   "outputs": [
    {
     "data": {
      "text/plain": [
       "id               0\n",
       "item_date        0\n",
       "quantity tons    4\n",
       "customer         0\n",
       "country          0\n",
       "status           0\n",
       "item type        0\n",
       "application      0\n",
       "thickness        0\n",
       "width            0\n",
       "material_ref     0\n",
       "product_ref      0\n",
       "delivery date    0\n",
       "selling_price    7\n",
       "dtype: int64"
      ]
     },
     "execution_count": 45,
     "metadata": {},
     "output_type": "execute_result"
    }
   ],
   "source": [
    "data1.isnull().sum()"
   ]
  },
  {
   "cell_type": "code",
   "execution_count": 47,
   "id": "72b13aa7",
   "metadata": {},
   "outputs": [
    {
     "data": {
      "text/plain": [
       "181620"
      ]
     },
     "execution_count": 47,
     "metadata": {},
     "output_type": "execute_result"
    }
   ],
   "source": [
    "data1.dropna(inplace=True)\n",
    "len(data1)"
   ]
  },
  {
   "cell_type": "code",
   "execution_count": 48,
   "id": "91d1c0f3",
   "metadata": {},
   "outputs": [
    {
     "name": "stderr",
     "output_type": "stream",
     "text": [
      "C:\\Users\\vishalachi\\anaconda3\\Lib\\site-packages\\seaborn\\distributions.py:2551: FutureWarning: `distplot` is a deprecated function and will be removed in a future version. Please adapt your code to use either `displot` (a figure-level function with similar flexibility) or `histplot` (an axes-level function for histograms).\n",
      "  warnings.warn(msg, FutureWarning)\n"
     ]
    },
    {
     "data": {
      "image/png": "[encoded data removed]",
      "text/plain": [
       "<Figure size 640x480 with 1 Axes>"
      ]
     },
     "metadata": {},
     "output_type": "display_data"
    },
    {
     "name": "stderr",
     "output_type": "stream",
     "text": [
      "C:\\Users\\vishalachi\\anaconda3\\Lib\\site-packages\\seaborn\\distributions.py:2551: FutureWarning: `distplot` is a deprecated function and will be removed in a future version. Please adapt your code to use either `displot` (a figure-level function with similar flexibility) or `histplot` (an axes-level function for histograms).\n",
      "  warnings.warn(msg, FutureWarning)\n"
     ]
    },
    {
     "data": {
      "image/png": "[encoded data removed]",
      "text/plain": [
       "<Figure size 640x480 with 1 Axes>"
      ]
     },
     "metadata": {},
     "output_type": "display_data"
    },
    {
     "name": "stderr",
     "output_type": "stream",
     "text": [
      "C:\\Users\\vishalachi\\anaconda3\\Lib\\site-packages\\seaborn\\distributions.py:2551: FutureWarning: `distplot` is a deprecated function and will be removed in a future version. Please adapt your code to use either `displot` (a figure-level function with similar flexibility) or `histplot` (an axes-level function for histograms).\n",
      "  warnings.warn(msg, FutureWarning)\n"
     ]
    },
    {
     "data": {
      "image/png": "[encoded data removed]",
      "text/plain": [
       "<Figure size 640x480 with 1 Axes>"
      ]
     },
     "metadata": {},
     "output_type": "display_data"
    }
   ],
   "source": [
    "import numpy as np\n",
    "data1['selling_price_log'] = np.log(data1['selling_price'])\n",
    "sns.distplot(data1['selling_price_log'])\n",
    "plt.show()\n",
    "\n",
    "data1['quantity tons_log'] = np.log(data1['quantity tons'])\n",
    "sns.distplot(data1['quantity tons_log'])\n",
    "plt.show()\n",
    "\n",
    "data1['thickness_log'] = np.log(data1['thickness'])\n",
    "sns.distplot(data1['thickness_log'])\n",
    "plt.show()"
   ]
  },
  {
   "cell_type": "code",
   "execution_count": 49,
   "id": "86fb5682",
   "metadata": {},
   "outputs": [
    {
     "data": {
      "text/html": [
       "<div>\n",
       "<style scoped>\n",
       "    .dataframe tbody tr th:only-of-type {\n",
       "        vertical-align: middle;\n",
       "    }\n",
       "\n",
       "    .dataframe tbody tr th {\n",
       "        vertical-align: top;\n",
       "    }\n",
       "\n",
       "    .dataframe thead th {\n",
       "        text-align: right;\n",
       "    }\n",
       "</style>\n",
       "<table border=\"1\" class=\"dataframe\">\n",
       "  <thead>\n",
       "    <tr style=\"text-align: right;\">\n",
       "      <th></th>\n",
       "      <th>id</th>\n",
       "      <th>item_date</th>\n",
       "      <th>quantity tons</th>\n",
       "      <th>customer</th>\n",
       "      <th>country</th>\n",
       "      <th>status</th>\n",
       "      <th>item type</th>\n",
       "      <th>application</th>\n",
       "      <th>thickness</th>\n",
       "      <th>width</th>\n",
       "      <th>material_ref</th>\n",
       "      <th>product_ref</th>\n",
       "      <th>delivery date</th>\n",
       "      <th>selling_price</th>\n",
       "      <th>selling_price_log</th>\n",
       "      <th>quantity tons_log</th>\n",
       "      <th>thickness_log</th>\n",
       "    </tr>\n",
       "  </thead>\n",
       "  <tbody>\n",
       "    <tr>\n",
       "      <th>0</th>\n",
       "      <td>EC06F063-9DF0-440C-8764-0B0C05A4F6AE</td>\n",
       "      <td>2021-04-01</td>\n",
       "      <td>54.151139</td>\n",
       "      <td>30156308.0</td>\n",
       "      <td>28.0</td>\n",
       "      <td>Won</td>\n",
       "      <td>W</td>\n",
       "      <td>10.0</td>\n",
       "      <td>2.00</td>\n",
       "      <td>1500.0</td>\n",
       "      <td>DEQ1 S460MC</td>\n",
       "      <td>1670798778</td>\n",
       "      <td>2021-07-01</td>\n",
       "      <td>854.00</td>\n",
       "      <td>6.749931</td>\n",
       "      <td>3.991779</td>\n",
       "      <td>0.693147</td>\n",
       "    </tr>\n",
       "    <tr>\n",
       "      <th>1</th>\n",
       "      <td>4E5F4B3D-DDDF-499D-AFDE-A3227EC49425</td>\n",
       "      <td>2021-04-01</td>\n",
       "      <td>768.024839</td>\n",
       "      <td>30202938.0</td>\n",
       "      <td>25.0</td>\n",
       "      <td>Won</td>\n",
       "      <td>W</td>\n",
       "      <td>41.0</td>\n",
       "      <td>0.80</td>\n",
       "      <td>1210.0</td>\n",
       "      <td>104991</td>\n",
       "      <td>1668701718</td>\n",
       "      <td>2021-04-01</td>\n",
       "      <td>1047.00</td>\n",
       "      <td>6.953684</td>\n",
       "      <td>6.643822</td>\n",
       "      <td>-0.223144</td>\n",
       "    </tr>\n",
       "    <tr>\n",
       "      <th>2</th>\n",
       "      <td>E140FF1B-2407-4C02-A0DD-780A093B1158</td>\n",
       "      <td>2021-04-01</td>\n",
       "      <td>386.127949</td>\n",
       "      <td>30153963.0</td>\n",
       "      <td>30.0</td>\n",
       "      <td>Won</td>\n",
       "      <td>WI</td>\n",
       "      <td>28.0</td>\n",
       "      <td>0.38</td>\n",
       "      <td>952.0</td>\n",
       "      <td>S0380700</td>\n",
       "      <td>628377</td>\n",
       "      <td>2021-01-01</td>\n",
       "      <td>644.33</td>\n",
       "      <td>6.468211</td>\n",
       "      <td>5.956169</td>\n",
       "      <td>-0.967584</td>\n",
       "    </tr>\n",
       "    <tr>\n",
       "      <th>3</th>\n",
       "      <td>F8D507A0-9C62-4EFE-831E-33E1DA53BB50</td>\n",
       "      <td>2021-04-01</td>\n",
       "      <td>202.411065</td>\n",
       "      <td>30349574.0</td>\n",
       "      <td>32.0</td>\n",
       "      <td>Won</td>\n",
       "      <td>S</td>\n",
       "      <td>59.0</td>\n",
       "      <td>2.30</td>\n",
       "      <td>1317.0</td>\n",
       "      <td>DX51D+ZM310MAO 2.3X1317</td>\n",
       "      <td>1668701718</td>\n",
       "      <td>2021-01-01</td>\n",
       "      <td>768.00</td>\n",
       "      <td>6.643790</td>\n",
       "      <td>5.310301</td>\n",
       "      <td>0.832909</td>\n",
       "    </tr>\n",
       "    <tr>\n",
       "      <th>4</th>\n",
       "      <td>4E1C4E78-152B-430A-8094-ADD889C9D0AD</td>\n",
       "      <td>2021-04-01</td>\n",
       "      <td>785.526262</td>\n",
       "      <td>30211560.0</td>\n",
       "      <td>28.0</td>\n",
       "      <td>Won</td>\n",
       "      <td>W</td>\n",
       "      <td>10.0</td>\n",
       "      <td>4.00</td>\n",
       "      <td>2000.0</td>\n",
       "      <td>2_S275JR+AR-CL1</td>\n",
       "      <td>640665</td>\n",
       "      <td>2021-03-01</td>\n",
       "      <td>577.00</td>\n",
       "      <td>6.357842</td>\n",
       "      <td>6.666354</td>\n",
       "      <td>1.386294</td>\n",
       "    </tr>\n",
       "  </tbody>\n",
       "</table>\n",
       "</div>"
      ],
      "text/plain": [
       "                                     id   item_date  quantity tons  \\\n",
       "0  EC06F063-9DF0-440C-8764-0B0C05A4F6AE  2021-04-01      54.151139   \n",
       "1  4E5F4B3D-DDDF-499D-AFDE-A3227EC49425  2021-04-01     768.024839   \n",
       "2  E140FF1B-2407-4C02-A0DD-780A093B1158  2021-04-01     386.127949   \n",
       "3  F8D507A0-9C62-4EFE-831E-33E1DA53BB50  2021-04-01     202.411065   \n",
       "4  4E1C4E78-152B-430A-8094-ADD889C9D0AD  2021-04-01     785.526262   \n",
       "\n",
       "     customer  country status item type  application  thickness   width  \\\n",
       "0  30156308.0     28.0    Won         W         10.0       2.00  1500.0   \n",
       "1  30202938.0     25.0    Won         W         41.0       0.80  1210.0   \n",
       "2  30153963.0     30.0    Won        WI         28.0       0.38   952.0   \n",
       "3  30349574.0     32.0    Won         S         59.0       2.30  1317.0   \n",
       "4  30211560.0     28.0    Won         W         10.0       4.00  2000.0   \n",
       "\n",
       "              material_ref  product_ref delivery date  selling_price  \\\n",
       "0              DEQ1 S460MC   1670798778    2021-07-01         854.00   \n",
       "1                   104991   1668701718    2021-04-01        1047.00   \n",
       "2                 S0380700       628377    2021-01-01         644.33   \n",
       "3  DX51D+ZM310MAO 2.3X1317   1668701718    2021-01-01         768.00   \n",
       "4          2_S275JR+AR-CL1       640665    2021-03-01         577.00   \n",
       "\n",
       "   selling_price_log  quantity tons_log  thickness_log  \n",
       "0           6.749931           3.991779       0.693147  \n",
       "1           6.953684           6.643822      -0.223144  \n",
       "2           6.468211           5.956169      -0.967584  \n",
       "3           6.643790           5.310301       0.832909  \n",
       "4           6.357842           6.666354       1.386294  "
      ]
     },
     "execution_count": 49,
     "metadata": {},
     "output_type": "execute_result"
    }
   ],
   "source": [
    "data1.head()"
   ]
  },
  {
   "cell_type": "code",
   "execution_count": 50,
   "id": "1a986360",
   "metadata": {},
   "outputs": [],
   "source": [
    "x=data1[['quantity tons_log','application','thickness_log','width','selling_price_log','country','customer','product_ref']].corr()"
   ]
  },
  {
   "cell_type": "code",
   "execution_count": 52,
   "id": "1ac8614e",
   "metadata": {},
   "outputs": [
    {
     "data": {
      "text/html": [
       "<div>\n",
       "<style scoped>\n",
       "    .dataframe tbody tr th:only-of-type {\n",
       "        vertical-align: middle;\n",
       "    }\n",
       "\n",
       "    .dataframe tbody tr th {\n",
       "        vertical-align: top;\n",
       "    }\n",
       "\n",
       "    .dataframe thead th {\n",
       "        text-align: right;\n",
       "    }\n",
       "</style>\n",
       "<table border=\"1\" class=\"dataframe\">\n",
       "  <thead>\n",
       "    <tr style=\"text-align: right;\">\n",
       "      <th></th>\n",
       "      <th>quantity tons_log</th>\n",
       "      <th>application</th>\n",
       "      <th>thickness_log</th>\n",
       "      <th>width</th>\n",
       "      <th>selling_price_log</th>\n",
       "      <th>country</th>\n",
       "      <th>customer</th>\n",
       "      <th>product_ref</th>\n",
       "    </tr>\n",
       "  </thead>\n",
       "  <tbody>\n",
       "    <tr>\n",
       "      <th>quantity tons_log</th>\n",
       "      <td>1.000000</td>\n",
       "      <td>0.063991</td>\n",
       "      <td>0.042005</td>\n",
       "      <td>0.034431</td>\n",
       "      <td>0.023898</td>\n",
       "      <td>-0.088899</td>\n",
       "      <td>0.080141</td>\n",
       "      <td>0.064064</td>\n",
       "    </tr>\n",
       "    <tr>\n",
       "      <th>application</th>\n",
       "      <td>0.063991</td>\n",
       "      <td>1.000000</td>\n",
       "      <td>-0.197563</td>\n",
       "      <td>-0.204451</td>\n",
       "      <td>0.022665</td>\n",
       "      <td>-0.019334</td>\n",
       "      <td>0.000895</td>\n",
       "      <td>-0.131871</td>\n",
       "    </tr>\n",
       "    <tr>\n",
       "      <th>thickness_log</th>\n",
       "      <td>0.042005</td>\n",
       "      <td>-0.197563</td>\n",
       "      <td>1.000000</td>\n",
       "      <td>0.387243</td>\n",
       "      <td>-0.154999</td>\n",
       "      <td>-0.065203</td>\n",
       "      <td>0.079971</td>\n",
       "      <td>0.234330</td>\n",
       "    </tr>\n",
       "    <tr>\n",
       "      <th>width</th>\n",
       "      <td>0.034431</td>\n",
       "      <td>-0.204451</td>\n",
       "      <td>0.387243</td>\n",
       "      <td>1.000000</td>\n",
       "      <td>-0.069453</td>\n",
       "      <td>0.055286</td>\n",
       "      <td>0.050527</td>\n",
       "      <td>-0.034428</td>\n",
       "    </tr>\n",
       "    <tr>\n",
       "      <th>selling_price_log</th>\n",
       "      <td>0.023898</td>\n",
       "      <td>0.022665</td>\n",
       "      <td>-0.154999</td>\n",
       "      <td>-0.069453</td>\n",
       "      <td>1.000000</td>\n",
       "      <td>-0.029110</td>\n",
       "      <td>0.008731</td>\n",
       "      <td>0.001181</td>\n",
       "    </tr>\n",
       "    <tr>\n",
       "      <th>country</th>\n",
       "      <td>-0.088899</td>\n",
       "      <td>-0.019334</td>\n",
       "      <td>-0.065203</td>\n",
       "      <td>0.055286</td>\n",
       "      <td>-0.029110</td>\n",
       "      <td>1.000000</td>\n",
       "      <td>0.083574</td>\n",
       "      <td>-0.147370</td>\n",
       "    </tr>\n",
       "    <tr>\n",
       "      <th>customer</th>\n",
       "      <td>0.080141</td>\n",
       "      <td>0.000895</td>\n",
       "      <td>0.079971</td>\n",
       "      <td>0.050527</td>\n",
       "      <td>0.008731</td>\n",
       "      <td>0.083574</td>\n",
       "      <td>1.000000</td>\n",
       "      <td>-0.032331</td>\n",
       "    </tr>\n",
       "    <tr>\n",
       "      <th>product_ref</th>\n",
       "      <td>0.064064</td>\n",
       "      <td>-0.131871</td>\n",
       "      <td>0.234330</td>\n",
       "      <td>-0.034428</td>\n",
       "      <td>0.001181</td>\n",
       "      <td>-0.147370</td>\n",
       "      <td>-0.032331</td>\n",
       "      <td>1.000000</td>\n",
       "    </tr>\n",
       "  </tbody>\n",
       "</table>\n",
       "</div>"
      ],
      "text/plain": [
       "                   quantity tons_log  application  thickness_log     width  \\\n",
       "quantity tons_log           1.000000     0.063991       0.042005  0.034431   \n",
       "application                 0.063991     1.000000      -0.197563 -0.204451   \n",
       "thickness_log               0.042005    -0.197563       1.000000  0.387243   \n",
       "width                       0.034431    -0.204451       0.387243  1.000000   \n",
       "selling_price_log           0.023898     0.022665      -0.154999 -0.069453   \n",
       "country                    -0.088899    -0.019334      -0.065203  0.055286   \n",
       "customer                    0.080141     0.000895       0.079971  0.050527   \n",
       "product_ref                 0.064064    -0.131871       0.234330 -0.034428   \n",
       "\n",
       "                   selling_price_log   country  customer  product_ref  \n",
       "quantity tons_log           0.023898 -0.088899  0.080141     0.064064  \n",
       "application                 0.022665 -0.019334  0.000895    -0.131871  \n",
       "thickness_log              -0.154999 -0.065203  0.079971     0.234330  \n",
       "width                      -0.069453  0.055286  0.050527    -0.034428  \n",
       "selling_price_log           1.000000 -0.029110  0.008731     0.001181  \n",
       "country                    -0.029110  1.000000  0.083574    -0.147370  \n",
       "customer                    0.008731  0.083574  1.000000    -0.032331  \n",
       "product_ref                 0.001181 -0.147370 -0.032331     1.000000  "
      ]
     },
     "execution_count": 52,
     "metadata": {},
     "output_type": "execute_result"
    }
   ],
   "source": [
    "x"
   ]
  },
  {
   "cell_type": "code",
   "execution_count": 51,
   "id": "bd700b98",
   "metadata": {},
   "outputs": [
    {
     "data": {
      "text/plain": [
       "<Axes: >"
      ]
     },
     "execution_count": 51,
     "metadata": {},
     "output_type": "execute_result"
    },
    {
     "data": {
      "image/png": "[encoded data removed]",
      "text/plain": [
       "<Figure size 640x480 with 2 Axes>"
      ]
     },
     "metadata": {},
     "output_type": "display_data"
    }
   ],
   "source": [
    "sns.heatmap(x, annot=True, cmap=\"YlGnBu\")"
   ]
  },
  {
   "cell_type": "markdown",
   "id": "b3423452",
   "metadata": {},
   "source": [
    "# Encoding "
   ]
  },
  {
   "cell_type": "code",
   "execution_count": 53,
   "id": "7b390902",
   "metadata": {},
   "outputs": [],
   "source": [
    "from sklearn.preprocessing import StandardScaler, OneHotEncoder"
   ]
  },
  {
   "cell_type": "code",
   "execution_count": 54,
   "id": "9180715d",
   "metadata": {},
   "outputs": [],
   "source": [
    "X=data1[['quantity tons_log','status','item type','application','thickness_log','width','country','customer','product_ref']]\n",
    "y=data1['selling_price_log']\n",
    "# encoding categorical variables\n",
    "ohe = OneHotEncoder(handle_unknown='ignore')\n",
    "ohe.fit(X[['item type']])\n",
    "X_ohe = ohe.fit_transform(X[['item type']]).toarray()\n",
    "ohe2 = OneHotEncoder(handle_unknown='ignore')\n",
    "ohe2.fit(X[['status']])\n",
    "X_be = ohe2.fit_transform(X[['status']]).toarray()\n",
    "# independent features after encoding\n",
    "X = np.concatenate((X[['quantity tons_log', 'application', 'thickness_log', 'width','country','customer','product_ref']].values, X_ohe, X_be), axis=1)\n",
    "scaler = StandardScaler()\n",
    "X = scaler.fit_transform(X)"
   ]
  },
  {
   "cell_type": "code",
   "execution_count": 55,
   "id": "351def36",
   "metadata": {},
   "outputs": [],
   "source": [
    "from sklearn.model_selection import train_test_split"
   ]
  },
  {
   "cell_type": "code",
   "execution_count": 56,
   "id": "7a18c624",
   "metadata": {},
   "outputs": [],
   "source": [
    "# test and train split\n",
    "X_train, X_test, y_train, y_test = train_test_split(X, y, test_size=0.1, random_state=42)"
   ]
  },
  {
   "cell_type": "code",
   "execution_count": 61,
   "id": "b6990def",
   "metadata": {},
   "outputs": [
    {
     "name": "stdout",
     "output_type": "stream",
     "text": [
      "(163458, 23) (18162, 23) (163458,) (18162,)\n"
     ]
    }
   ],
   "source": [
    "print(X_train.shape, X_test.shape, y_train.shape, y_test.shape)"
   ]
  },
  {
   "cell_type": "code",
   "execution_count": 57,
   "id": "467c7ca1",
   "metadata": {},
   "outputs": [
    {
     "data": {
      "text/plain": [
       "array([[ 0.37569784,  0.8665426 , -1.25686937, ..., -0.15323927,\n",
       "        -1.32950556, -0.00234649],\n",
       "       [ 0.69046893, -0.87956189, -0.27533141, ..., -0.15323927,\n",
       "        -1.32950556, -0.00234649],\n",
       "       [-0.41799355, -0.59793214,  2.14748731, ..., -0.15323927,\n",
       "         0.75215932, -0.00234649],\n",
       "       ...,\n",
       "       [ 0.44036283,  1.71143188, -1.00930064, ..., -0.15323927,\n",
       "         0.75215932, -0.00234649],\n",
       "       [-0.5385811 , -0.59793214, -1.06156506, ..., -0.15323927,\n",
       "        -1.32950556, -0.00234649],\n",
       "       [ 0.4346164 , -0.87956189, -0.62722759, ..., -0.15323927,\n",
       "         0.75215932, -0.00234649]])"
      ]
     },
     "execution_count": 57,
     "metadata": {},
     "output_type": "execute_result"
    }
   ],
   "source": [
    "X_train"
   ]
  },
  {
   "cell_type": "code",
   "execution_count": 58,
   "id": "2878ed1d",
   "metadata": {},
   "outputs": [
    {
     "data": {
      "text/plain": [
       "array([[ 1.55725941e+00,  8.66542604e-01, -3.19060254e-01, ...,\n",
       "        -1.53239271e-01, -1.32950556e+00, -2.34649352e-03],\n",
       "       [-5.58931358e-01,  3.00692876e+00, -1.06156506e+00, ...,\n",
       "        -1.53239271e-01, -1.32950556e+00, -2.34649352e-03],\n",
       "       [-1.08423432e+00, -8.79561894e-01, -3.19060254e-01, ...,\n",
       "        -1.53239271e-01,  7.52159322e-01, -2.34649352e-03],\n",
       "       ...,\n",
       "       [ 2.76584935e-01,  8.66542604e-01, -5.14364564e-01, ...,\n",
       "        -1.53239271e-01, -1.32950556e+00, -2.34649352e-03],\n",
       "       [ 1.32058910e+00, -8.79561894e-01,  2.28140240e-01, ...,\n",
       "        -1.53239271e-01, -1.32950556e+00, -2.34649352e-03],\n",
       "       [-7.07645418e-01,  8.66542604e-01,  2.85493537e-01, ...,\n",
       "        -1.53239271e-01,  7.52159322e-01, -2.34649352e-03]])"
      ]
     },
     "execution_count": 58,
     "metadata": {},
     "output_type": "execute_result"
    }
   ],
   "source": [
    "X_test"
   ]
  },
  {
   "cell_type": "markdown",
   "id": "eb23b081",
   "metadata": {},
   "source": [
    "# DECISION TREE REGRESSOR"
   ]
  },
  {
   "cell_type": "code",
   "execution_count": 64,
   "id": "4b7f2c72",
   "metadata": {},
   "outputs": [],
   "source": [
    "from sklearn.metrics import mean_squared_error, r2_score\n",
    "from sklearn.model_selection import GridSearchCV\n",
    "from sklearn.tree import DecisionTreeRegressor"
   ]
  },
  {
   "cell_type": "code",
   "execution_count": 65,
   "id": "45af1a06",
   "metadata": {},
   "outputs": [
    {
     "name": "stderr",
     "output_type": "stream",
     "text": [
      "C:\\Users\\vishalachi\\anaconda3\\Lib\\site-packages\\sklearn\\model_selection\\_validation.py:425: FitFailedWarning: \n",
      "180 fits failed out of a total of 540.\n",
      "The score on these train-test partitions for these parameters will be set to nan.\n",
      "If these failures are not expected, you can try to debug them by setting error_score='raise'.\n",
      "\n",
      "Below are more details about the failures:\n",
      "--------------------------------------------------------------------------------\n",
      "180 fits failed with the following error:\n",
      "Traceback (most recent call last):\n",
      "  File \"C:\\Users\\vishalachi\\anaconda3\\Lib\\site-packages\\sklearn\\model_selection\\_validation.py\", line 732, in _fit_and_score\n",
      "    estimator.fit(X_train, y_train, **fit_params)\n",
      "  File \"C:\\Users\\vishalachi\\anaconda3\\Lib\\site-packages\\sklearn\\base.py\", line 1144, in wrapper\n",
      "    estimator._validate_params()\n",
      "  File \"C:\\Users\\vishalachi\\anaconda3\\Lib\\site-packages\\sklearn\\base.py\", line 637, in _validate_params\n",
      "    validate_parameter_constraints(\n",
      "  File \"C:\\Users\\vishalachi\\anaconda3\\Lib\\site-packages\\sklearn\\utils\\_param_validation.py\", line 95, in validate_parameter_constraints\n",
      "    raise InvalidParameterError(\n",
      "sklearn.utils._param_validation.InvalidParameterError: The 'max_features' parameter of DecisionTreeRegressor must be an int in the range [1, inf), a float in the range (0.0, 1.0], a str among {'log2', 'sqrt'} or None. Got 'auto' instead.\n",
      "\n",
      "  warnings.warn(some_fits_failed_message, FitFailedWarning)\n",
      "C:\\Users\\vishalachi\\anaconda3\\Lib\\site-packages\\sklearn\\model_selection\\_search.py:976: UserWarning: One or more of the test scores are non-finite: [       nan        nan        nan        nan        nan        nan\n",
      "        nan        nan        nan 0.51258735 0.35830455 0.15678916\n",
      " 0.25597467 0.18908084 0.2705241  0.12817042 0.19841975 0.04853204\n",
      " 0.03309117 0.35045415 0.42061395 0.15139518 0.03010625 0.18509952\n",
      " 0.49471037 0.33459323 0.22631987        nan        nan        nan\n",
      "        nan        nan        nan        nan        nan        nan\n",
      " 0.53161811 0.55428341 0.66085161 0.55214136 0.58079336 0.61322106\n",
      " 0.5879118  0.6712058  0.69713078 0.82228229 0.86007341 0.5117243\n",
      " 0.58746299 0.55749439 0.54948212 0.59499157 0.4958932  0.40259878\n",
      "        nan        nan        nan        nan        nan        nan\n",
      "        nan        nan        nan 0.83886382 0.80273085 0.85705026\n",
      " 0.83858545 0.78628194 0.81664872 0.81020248 0.83825915 0.76945661\n",
      " 0.81144171 0.79871507 0.74734605 0.81003265 0.82981874 0.79280736\n",
      " 0.7686086  0.67276169 0.79651584        nan        nan        nan\n",
      "        nan        nan        nan        nan        nan        nan\n",
      " 0.88383369 0.89217619 0.89175336 0.89012151 0.89174821 0.89747017\n",
      " 0.87172513 0.89288647 0.88679768 0.8777563  0.88658511 0.89214832\n",
      " 0.89281416 0.89173046 0.86980484 0.88587839 0.88731088 0.89714105]\n",
      "  warnings.warn(\n"
     ]
    },
    {
     "name": "stdout",
     "output_type": "stream",
     "text": [
      "Best hyperparameters: {'max_depth': 20, 'max_features': 'sqrt', 'min_samples_leaf': 2, 'min_samples_split': 10}\n"
     ]
    }
   ],
   "source": [
    "# decision tree\n",
    "dt_regressor = DecisionTreeRegressor()\n",
    "# hyperparameters\n",
    "param_grid = {'max_depth': [2, 5, 10, 20],\n",
    "              'min_samples_split': [2, 5, 10],\n",
    "              'min_samples_leaf': [1, 2, 4],\n",
    "              'max_features': ['auto', 'sqrt', 'log2']}\n",
    "# gridsearchcv\n",
    "grid_search = GridSearchCV(estimator= dt_regressor, param_grid=param_grid, cv=5)\n",
    "grid_search.fit(X_train, y_train)\n",
    "print(\"Best hyperparameters:\", grid_search.best_params_)\n",
    "best_model = grid_search.best_estimator_\n",
    "y_pred = best_model.predict(X_test)"
   ]
  },
  {
   "cell_type": "code",
   "execution_count": 66,
   "id": "1f8fefa0",
   "metadata": {},
   "outputs": [
    {
     "name": "stdout",
     "output_type": "stream",
     "text": [
      "Mean squared error: 0.02625473494295307\n",
      "R-squared: 0.9185068373072075\n"
     ]
    }
   ],
   "source": [
    "# evalution metrics\n",
    "mse = mean_squared_error(y_test, y_pred)\n",
    "r2 = r2_score(y_test, y_pred)\n",
    "print('Mean squared error:', mse)\n",
    "print('R-squared:', r2)"
   ]
  },
  {
   "cell_type": "code",
   "execution_count": 67,
   "id": "7c8d6c53",
   "metadata": {},
   "outputs": [
    {
     "name": "stdout",
     "output_type": "stream",
     "text": [
      "Predicted selling price: [783.04274138]\n"
     ]
    },
    {
     "name": "stderr",
     "output_type": "stream",
     "text": [
      "C:\\Users\\vishalachi\\anaconda3\\Lib\\site-packages\\sklearn\\base.py:464: UserWarning: X does not have valid feature names, but OneHotEncoder was fitted with feature names\n",
      "  warnings.warn(\n",
      "C:\\Users\\vishalachi\\anaconda3\\Lib\\site-packages\\sklearn\\base.py:464: UserWarning: X does not have valid feature names, but OneHotEncoder was fitted with feature names\n",
      "  warnings.warn(\n"
     ]
    }
   ],
   "source": [
    "# ['quantity tons_log', 'application', 'thickness_log', 'width','country','customer','product_ref']].values, X_ohe, X_be\n",
    "new_sample = np.array([[np.log(40), 10, np.log(250), 0, 28,30202938,1670798778,'PL','Won']])\n",
    "new_sample_ohe = ohe.transform(new_sample[:, [7]]).toarray()\n",
    "new_sample_be = ohe2.transform(new_sample[:, [8]]).toarray()\n",
    "new_sample = np.concatenate((new_sample[:, [0,1,2, 3, 4, 5, 6,]], new_sample_ohe, new_sample_be), axis=1)\n",
    "new_sample1 = scaler.transform(new_sample)\n",
    "new_pred = best_model.predict(new_sample1)\n",
    "print('Predicted selling price:', np.exp(new_pred))"
   ]
  },
  {
   "cell_type": "code",
   "execution_count": 68,
   "id": "4b4302ff",
   "metadata": {},
   "outputs": [],
   "source": [
    "# Saving the model\n",
    "import pickle\n",
    "with open('model.pkl', 'wb') as file:\n",
    "    pickle.dump(best_model, file)\n",
    "with open('scaler.pkl', 'wb') as f:\n",
    "    pickle.dump(scaler, f)\n",
    "with open('t.pkl', 'wb') as f:\n",
    "    pickle.dump(ohe, f)\n",
    "with open('s.pkl', 'wb') as f:\n",
    "    pickle.dump(ohe2, f)"
   ]
  },
  {
   "cell_type": "code",
   "execution_count": 70,
   "id": "e42d88a0",
   "metadata": {},
   "outputs": [
    {
     "name": "stdout",
     "output_type": "stream",
     "text": [
      "181620\n"
     ]
    },
    {
     "data": {
      "text/html": [
       "<div>\n",
       "<style scoped>\n",
       "    .dataframe tbody tr th:only-of-type {\n",
       "        vertical-align: middle;\n",
       "    }\n",
       "\n",
       "    .dataframe tbody tr th {\n",
       "        vertical-align: top;\n",
       "    }\n",
       "\n",
       "    .dataframe thead th {\n",
       "        text-align: right;\n",
       "    }\n",
       "</style>\n",
       "<table border=\"1\" class=\"dataframe\">\n",
       "  <thead>\n",
       "    <tr style=\"text-align: right;\">\n",
       "      <th></th>\n",
       "      <th>id</th>\n",
       "      <th>item_date</th>\n",
       "      <th>quantity tons</th>\n",
       "      <th>customer</th>\n",
       "      <th>country</th>\n",
       "      <th>status</th>\n",
       "      <th>item type</th>\n",
       "      <th>application</th>\n",
       "      <th>thickness</th>\n",
       "      <th>width</th>\n",
       "      <th>material_ref</th>\n",
       "      <th>product_ref</th>\n",
       "      <th>delivery date</th>\n",
       "      <th>selling_price</th>\n",
       "      <th>selling_price_log</th>\n",
       "      <th>quantity tons_log</th>\n",
       "      <th>thickness_log</th>\n",
       "    </tr>\n",
       "  </thead>\n",
       "  <tbody>\n",
       "    <tr>\n",
       "      <th>0</th>\n",
       "      <td>EC06F063-9DF0-440C-8764-0B0C05A4F6AE</td>\n",
       "      <td>2021-04-01</td>\n",
       "      <td>54.151139</td>\n",
       "      <td>30156308.0</td>\n",
       "      <td>28.0</td>\n",
       "      <td>Won</td>\n",
       "      <td>W</td>\n",
       "      <td>10.0</td>\n",
       "      <td>2.00</td>\n",
       "      <td>1500.0</td>\n",
       "      <td>DEQ1 S460MC</td>\n",
       "      <td>1670798778</td>\n",
       "      <td>2021-07-01</td>\n",
       "      <td>854.00</td>\n",
       "      <td>6.749931</td>\n",
       "      <td>3.991779</td>\n",
       "      <td>0.693147</td>\n",
       "    </tr>\n",
       "    <tr>\n",
       "      <th>1</th>\n",
       "      <td>4E5F4B3D-DDDF-499D-AFDE-A3227EC49425</td>\n",
       "      <td>2021-04-01</td>\n",
       "      <td>768.024839</td>\n",
       "      <td>30202938.0</td>\n",
       "      <td>25.0</td>\n",
       "      <td>Won</td>\n",
       "      <td>W</td>\n",
       "      <td>41.0</td>\n",
       "      <td>0.80</td>\n",
       "      <td>1210.0</td>\n",
       "      <td>104991</td>\n",
       "      <td>1668701718</td>\n",
       "      <td>2021-04-01</td>\n",
       "      <td>1047.00</td>\n",
       "      <td>6.953684</td>\n",
       "      <td>6.643822</td>\n",
       "      <td>-0.223144</td>\n",
       "    </tr>\n",
       "    <tr>\n",
       "      <th>2</th>\n",
       "      <td>E140FF1B-2407-4C02-A0DD-780A093B1158</td>\n",
       "      <td>2021-04-01</td>\n",
       "      <td>386.127949</td>\n",
       "      <td>30153963.0</td>\n",
       "      <td>30.0</td>\n",
       "      <td>Won</td>\n",
       "      <td>WI</td>\n",
       "      <td>28.0</td>\n",
       "      <td>0.38</td>\n",
       "      <td>952.0</td>\n",
       "      <td>S0380700</td>\n",
       "      <td>628377</td>\n",
       "      <td>2021-01-01</td>\n",
       "      <td>644.33</td>\n",
       "      <td>6.468211</td>\n",
       "      <td>5.956169</td>\n",
       "      <td>-0.967584</td>\n",
       "    </tr>\n",
       "  </tbody>\n",
       "</table>\n",
       "</div>"
      ],
      "text/plain": [
       "                                     id   item_date  quantity tons  \\\n",
       "0  EC06F063-9DF0-440C-8764-0B0C05A4F6AE  2021-04-01      54.151139   \n",
       "1  4E5F4B3D-DDDF-499D-AFDE-A3227EC49425  2021-04-01     768.024839   \n",
       "2  E140FF1B-2407-4C02-A0DD-780A093B1158  2021-04-01     386.127949   \n",
       "\n",
       "     customer  country status item type  application  thickness   width  \\\n",
       "0  30156308.0     28.0    Won         W         10.0       2.00  1500.0   \n",
       "1  30202938.0     25.0    Won         W         41.0       0.80  1210.0   \n",
       "2  30153963.0     30.0    Won        WI         28.0       0.38   952.0   \n",
       "\n",
       "  material_ref  product_ref delivery date  selling_price  selling_price_log  \\\n",
       "0  DEQ1 S460MC   1670798778    2021-07-01         854.00           6.749931   \n",
       "1       104991   1668701718    2021-04-01        1047.00           6.953684   \n",
       "2     S0380700       628377    2021-01-01         644.33           6.468211   \n",
       "\n",
       "   quantity tons_log  thickness_log  \n",
       "0           3.991779       0.693147  \n",
       "1           6.643822      -0.223144  \n",
       "2           5.956169      -0.967584  "
      ]
     },
     "execution_count": 70,
     "metadata": {},
     "output_type": "execute_result"
    }
   ],
   "source": [
    "print(len(data1))\n",
    "data1.head(3)"
   ]
  },
  {
   "cell_type": "code",
   "execution_count": 75,
   "id": "e7332b38",
   "metadata": {},
   "outputs": [
    {
     "data": {
      "text/plain": [
       "150427"
      ]
     },
     "execution_count": 75,
     "metadata": {},
     "output_type": "execute_result"
    }
   ],
   "source": [
    "data2 = data1[data1['status'].isin(['Won', 'Lost'])]\n",
    "len(data2)"
   ]
  },
  {
   "cell_type": "markdown",
   "id": "2d6d3105",
   "metadata": {},
   "source": [
    "# DECISION TREE CLASSIFIER"
   ]
  },
  {
   "cell_type": "code",
   "execution_count": 72,
   "id": "b759911f",
   "metadata": {},
   "outputs": [],
   "source": [
    "from sklearn.tree import DecisionTreeClassifier\n",
    "from sklearn.model_selection import train_test_split\n",
    "from sklearn.metrics import accuracy_score, confusion_matrix\n",
    "from sklearn.preprocessing import StandardScaler, OneHotEncoder, LabelBinarizer"
   ]
  },
  {
   "cell_type": "code",
   "execution_count": 76,
   "id": "1e55fa17",
   "metadata": {},
   "outputs": [],
   "source": [
    "Y = data2['status']\n",
    "X= data2[['quantity tons_log','selling_price_log','item type','application','thickness_log','width','country','customer','product_ref']]\n",
    "\n",
    "# encoding categorical variables\n",
    "ohe = OneHotEncoder(handle_unknown='ignore')\n",
    "ohe.fit(X[['item type']])\n",
    "X_ohe = ohe.fit_transform(X[['item type']]).toarray()\n",
    "be = LabelBinarizer()\n",
    "be.fit(Y) \n",
    "y = be.fit_transform(Y)\n",
    "# independent features after encoding\n",
    "X = np.concatenate((X[['quantity tons_log', 'selling_price_log','application', 'thickness_log', 'width','country','customer','product_ref']].values, X_ohe), axis=1)\n",
    "scaler = StandardScaler()\n",
    "X = scaler.fit_transform(X)"
   ]
  },
  {
   "cell_type": "code",
   "execution_count": 77,
   "id": "ff1cde1d",
   "metadata": {},
   "outputs": [],
   "source": [
    "#train and test split\n",
    "X_train, X_test, y_train, y_test = train_test_split(X, y, test_size=0.2, random_state=42)"
   ]
  },
  {
   "cell_type": "code",
   "execution_count": 79,
   "id": "3864bcbb",
   "metadata": {},
   "outputs": [
    {
     "name": "stdout",
     "output_type": "stream",
     "text": [
      "Accuracy: 0.9114870703981919\n",
      "Confusion Matrix:\n",
      "[[ 5670  1332]\n",
      " [ 1331 21753]]\n"
     ]
    }
   ],
   "source": [
    "# decision tree classifier\n",
    "dt_classifier = DecisionTreeClassifier()\n",
    "dt_classifier.fit(X_train, y_train)\n",
    "y_pred = dt_classifier.predict(X_test)\n",
    "\n",
    "accuracy = accuracy_score(y_test, y_pred)\n",
    "print(f\"Accuracy: {accuracy}\")\n",
    "cm = confusion_matrix(y_test, y_pred)\n",
    "print(f\"Confusion Matrix:\\n{cm}\")"
   ]
  },
  {
   "cell_type": "code",
   "execution_count": 80,
   "id": "f7645fd2",
   "metadata": {},
   "outputs": [
    {
     "name": "stdout",
     "output_type": "stream",
     "text": [
      "Confusion Matrix:\n",
      "[[ 5670  1332]\n",
      " [ 1331 21753]]\n",
      "Classification Report:\n",
      "              precision    recall  f1-score   support\n",
      "\n",
      "           0       0.81      0.81      0.81      7002\n",
      "           1       0.94      0.94      0.94     23084\n",
      "\n",
      "    accuracy                           0.91     30086\n",
      "   macro avg       0.88      0.88      0.88     30086\n",
      "weighted avg       0.91      0.91      0.91     30086\n",
      "\n"
     ]
    },
    {
     "data": {
      "image/png": "[encoded data removed]",
      "text/plain": [
       "<Figure size 640x480 with 1 Axes>"
      ]
     },
     "metadata": {},
     "output_type": "display_data"
    }
   ],
   "source": [
    "# Evalution Metrics\n",
    "from sklearn.metrics import confusion_matrix, classification_report, roc_curve, auc\n",
    "import matplotlib.pyplot as plt\n",
    "print(\"Confusion Matrix:\")\n",
    "print(confusion_matrix(y_test, y_pred))\n",
    "print(\"Classification Report:\")\n",
    "print(classification_report(y_test, y_pred))\n",
    "# ROC curve and AUC\n",
    "fpr, tpr, thresholds = roc_curve(y_test, y_pred)\n",
    "roc_auc = auc(fpr, tpr)\n",
    "plt.plot(fpr, tpr, label='ROC curve (area = %0.2f)' % roc_auc)\n",
    "plt.plot([0, 1], [0, 1], 'k--')\n",
    "plt.xlim([0.0, 1.0])\n",
    "plt.ylim([0.0, 1.05])\n",
    "plt.xlabel('False Positive Rate')\n",
    "plt.ylabel('True Positive Rate')\n",
    "plt.title('Receiver operating characteristic')\n",
    "plt.legend(loc=\"lower right\")\n",
    "plt.show()"
   ]
  },
  {
   "cell_type": "code",
   "execution_count": 82,
   "id": "0fd0612b",
   "metadata": {},
   "outputs": [
    {
     "name": "stdout",
     "output_type": "stream",
     "text": [
      "The status is: Won\n"
     ]
    },
    {
     "name": "stderr",
     "output_type": "stream",
     "text": [
      "C:\\Users\\vishalachi\\anaconda3\\Lib\\site-packages\\sklearn\\base.py:464: UserWarning: X does not have valid feature names, but OneHotEncoder was fitted with feature names\n",
      "  warnings.warn(\n"
     ]
    }
   ],
   "source": [
    "# Predict the status for a new sample\n",
    "# 'quantity tons_log', 'selling_price_log','application', 'thickness_log', 'width','country','customer','product_ref']].values, X_ohe\n",
    "new_sample = np.array([[np.log(700), np.log(956), 10, np.log(2),1500,28.0,30202938,1670798778,'W']])\n",
    "new_sample_ohe = ohe.transform(new_sample[:, [8]]).toarray()\n",
    "new_sample = np.concatenate((new_sample[:, [0,1,2, 3, 4, 5, 6,7]], new_sample_ohe), axis=1)\n",
    "new_sample = scaler.transform(new_sample)\n",
    "new_pred = dt_classifier.predict(new_sample)\n",
    "if new_pred==1:\n",
    "    print('The status is: Won')\n",
    "else:\n",
    "    print('The status is: Lost')"
   ]
  },
  {
   "cell_type": "code",
   "execution_count": 84,
   "id": "4dfad6e9",
   "metadata": {},
   "outputs": [],
   "source": [
    "# Saving the model\n",
    "import pickle\n",
    "with open('cmodel.pkl', 'wb') as file:\n",
    "    pickle.dump(dt_classifier, file)\n",
    "with open('cscaler.pkl', 'wb') as f:\n",
    "    pickle.dump(scaler, f)\n",
    "with open('ct.pkl', 'wb') as f:\n",
    "    pickle.dump(ohe, f)"
   ]
  },
  {
   "cell_type": "code",
   "execution_count": null,
   "id": "20d2e808",
   "metadata": {},
   "outputs": [],
   "source": []
  }
 ],
 "metadata": {
  "kernelspec": {
   "display_name": "Python 3 (ipykernel)",
   "language": "python",
   "name": "python3"
  },
  "language_info": {
   "codemirror_mode": {
    "name": "ipython",
    "version": 3
   },
   "file_extension": ".py",
   "mimetype": "text/x-python",
   "name": "python",
   "nbconvert_exporter": "python",
   "pygments_lexer": "ipython3",
   "version": "3.11.5"
  }
 },
 "nbformat": 4,
 "nbformat_minor": 5
}
